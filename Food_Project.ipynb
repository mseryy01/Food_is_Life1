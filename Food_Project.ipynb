{
  "nbformat": 4,
  "nbformat_minor": 0,
  "metadata": {
    "colab": {
      "name": "Food Project.ipynb",
      "provenance": [],
      "collapsed_sections": []
    },
    "kernelspec": {
      "name": "python3",
      "display_name": "Python 3"
    }
  },
  "cells": [
    {
      "cell_type": "code",
      "metadata": {
        "id": "azuehVlmTQ6R",
        "colab_type": "code",
        "outputId": "aedd92a1-31b2-4b47-8dca-19153e308b54",
        "colab": {
          "resources": {
            "http://localhost:8080/nbextensions/google.colab/files.js": {
              "data": "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",
              "ok": true,
              "headers": [
                [
                  "content-type",
                  "application/javascript"
                ]
              ],
              "status": 200,
              "status_text": ""
            }
          },
          "base_uri": "https://localhost:8080/",
          "height": 74
        }
      },
      "source": [
        "from google.colab import files\n",
        "uploaded = files.upload()"
      ],
      "execution_count": 0,
      "outputs": [
        {
          "output_type": "display_data",
          "data": {
            "text/html": [
              "\n",
              "     <input type=\"file\" id=\"files-669b5f66-9eeb-4804-8b62-aeb2642e5196\" name=\"files[]\" multiple disabled />\n",
              "     <output id=\"result-669b5f66-9eeb-4804-8b62-aeb2642e5196\">\n",
              "      Upload widget is only available when the cell has been executed in the\n",
              "      current browser session. Please rerun this cell to enable.\n",
              "      </output>\n",
              "      <script src=\"/nbextensions/google.colab/files.js\"></script> "
            ],
            "text/plain": [
              "<IPython.core.display.HTML object>"
            ]
          },
          "metadata": {
            "tags": []
          }
        },
        {
          "output_type": "stream",
          "text": [
            "Saving whats-cooking.zip to whats-cooking.zip\n"
          ],
          "name": "stdout"
        }
      ]
    },
    {
      "cell_type": "code",
      "metadata": {
        "id": "0n9z1YfTUO_8",
        "colab_type": "code",
        "outputId": "3ab7a2c4-6dfb-42d5-9459-70064a629bef",
        "colab": {
          "base_uri": "https://localhost:8080/",
          "height": 84
        }
      },
      "source": [
        "!unzip whats-cooking.zip"
      ],
      "execution_count": 0,
      "outputs": [
        {
          "output_type": "stream",
          "text": [
            "Archive:  whats-cooking.zip\n",
            "  inflating: train.json              \n",
            "  inflating: sample_submission.csv   \n",
            "  inflating: test.json               \n"
          ],
          "name": "stdout"
        }
      ]
    },
    {
      "cell_type": "code",
      "metadata": {
        "id": "1S2sEbspSdBY",
        "colab_type": "code",
        "colab": {}
      },
      "source": [
        "import pandas as pd\n",
        "import numpy as np \n",
        "import seaborn as sns\n",
        "import matplotlib.pyplot as plt\n",
        "%matplotlib inline"
      ],
      "execution_count": 0,
      "outputs": []
    },
    {
      "cell_type": "code",
      "metadata": {
        "id": "ns1pDGUfUvn7",
        "colab_type": "code",
        "outputId": "b2a7ad78-30a5-445b-dcf2-fed681a62f0d",
        "colab": {
          "base_uri": "https://localhost:8080/",
          "height": 184
        }
      },
      "source": [
        "!head train.json"
      ],
      "execution_count": 0,
      "outputs": [
        {
          "output_type": "stream",
          "text": [
            "[\n",
            "  {\n",
            "    \"id\": 10259,\n",
            "    \"cuisine\": \"greek\",\n",
            "    \"ingredients\": [\n",
            "      \"romaine lettuce\",\n",
            "      \"black olives\",\n",
            "      \"grape tomatoes\",\n",
            "      \"garlic\",\n",
            "      \"pepper\",\n"
          ],
          "name": "stdout"
        }
      ]
    },
    {
      "cell_type": "code",
      "metadata": {
        "id": "uo0vS7dfVrLV",
        "colab_type": "code",
        "outputId": "88537066-4b2e-4f5e-acde-60ba84636c26",
        "colab": {
          "base_uri": "https://localhost:8080/",
          "height": 213
        }
      },
      "source": [
        "train = pd.read_json('train.json')\n",
        "print(train.shape)\n",
        "train.head()"
      ],
      "execution_count": 0,
      "outputs": [
        {
          "output_type": "stream",
          "text": [
            "(39774, 3)\n"
          ],
          "name": "stdout"
        },
        {
          "output_type": "execute_result",
          "data": {
            "text/html": [
              "<div>\n",
              "<style scoped>\n",
              "    .dataframe tbody tr th:only-of-type {\n",
              "        vertical-align: middle;\n",
              "    }\n",
              "\n",
              "    .dataframe tbody tr th {\n",
              "        vertical-align: top;\n",
              "    }\n",
              "\n",
              "    .dataframe thead th {\n",
              "        text-align: right;\n",
              "    }\n",
              "</style>\n",
              "<table border=\"1\" class=\"dataframe\">\n",
              "  <thead>\n",
              "    <tr style=\"text-align: right;\">\n",
              "      <th></th>\n",
              "      <th>id</th>\n",
              "      <th>cuisine</th>\n",
              "      <th>ingredients</th>\n",
              "    </tr>\n",
              "  </thead>\n",
              "  <tbody>\n",
              "    <tr>\n",
              "      <th>0</th>\n",
              "      <td>10259</td>\n",
              "      <td>greek</td>\n",
              "      <td>[romaine lettuce, black olives, grape tomatoes...</td>\n",
              "    </tr>\n",
              "    <tr>\n",
              "      <th>1</th>\n",
              "      <td>25693</td>\n",
              "      <td>southern_us</td>\n",
              "      <td>[plain flour, ground pepper, salt, tomatoes, g...</td>\n",
              "    </tr>\n",
              "    <tr>\n",
              "      <th>2</th>\n",
              "      <td>20130</td>\n",
              "      <td>filipino</td>\n",
              "      <td>[eggs, pepper, salt, mayonaise, cooking oil, g...</td>\n",
              "    </tr>\n",
              "    <tr>\n",
              "      <th>3</th>\n",
              "      <td>22213</td>\n",
              "      <td>indian</td>\n",
              "      <td>[water, vegetable oil, wheat, salt]</td>\n",
              "    </tr>\n",
              "    <tr>\n",
              "      <th>4</th>\n",
              "      <td>13162</td>\n",
              "      <td>indian</td>\n",
              "      <td>[black pepper, shallots, cornflour, cayenne pe...</td>\n",
              "    </tr>\n",
              "  </tbody>\n",
              "</table>\n",
              "</div>"
            ],
            "text/plain": [
              "      id      cuisine                                        ingredients\n",
              "0  10259        greek  [romaine lettuce, black olives, grape tomatoes...\n",
              "1  25693  southern_us  [plain flour, ground pepper, salt, tomatoes, g...\n",
              "2  20130     filipino  [eggs, pepper, salt, mayonaise, cooking oil, g...\n",
              "3  22213       indian                [water, vegetable oil, wheat, salt]\n",
              "4  13162       indian  [black pepper, shallots, cornflour, cayenne pe..."
            ]
          },
          "metadata": {
            "tags": []
          },
          "execution_count": 6
        }
      ]
    },
    {
      "cell_type": "code",
      "metadata": {
        "id": "sw01l0PfX4GX",
        "colab_type": "code",
        "outputId": "95bbd203-a5de-49c5-90c1-3b1269644771",
        "colab": {
          "base_uri": "https://localhost:8080/",
          "height": 84
        }
      },
      "source": [
        "train.isnull().sum().sort_values()"
      ],
      "execution_count": 0,
      "outputs": [
        {
          "output_type": "execute_result",
          "data": {
            "text/plain": [
              "id             0\n",
              "cuisine        0\n",
              "ingredients    0\n",
              "dtype: int64"
            ]
          },
          "metadata": {
            "tags": []
          },
          "execution_count": 7
        }
      ]
    },
    {
      "cell_type": "code",
      "metadata": {
        "id": "RS7qbrRPYUYU",
        "colab_type": "code",
        "outputId": "61bc136e-2c7e-4b4b-f08d-3941d4299c62",
        "colab": {
          "base_uri": "https://localhost:8080/",
          "height": 84
        }
      },
      "source": [
        "train.dtypes"
      ],
      "execution_count": 0,
      "outputs": [
        {
          "output_type": "execute_result",
          "data": {
            "text/plain": [
              "id              int64\n",
              "cuisine        object\n",
              "ingredients    object\n",
              "dtype: object"
            ]
          },
          "metadata": {
            "tags": []
          },
          "execution_count": 8
        }
      ]
    },
    {
      "cell_type": "markdown",
      "metadata": {
        "id": "ScihzrMEbk3V",
        "colab_type": "text"
      },
      "source": [
        "## Organize and plot cuisine types"
      ]
    },
    {
      "cell_type": "code",
      "metadata": {
        "id": "WEuIWb2OY5gx",
        "colab_type": "code",
        "outputId": "7fbe7f1b-37bf-4afe-a4b7-3ff16d971e7d",
        "colab": {
          "base_uri": "https://localhost:8080/",
          "height": 213
        }
      },
      "source": [
        "# Cuisines count and listed by number of recipes\n",
        "train_cus= pd.DataFrame(train['cuisine'].value_counts())\n",
        "print(train_cus.shape)\n",
        "train_cus.head()"
      ],
      "execution_count": 0,
      "outputs": [
        {
          "output_type": "stream",
          "text": [
            "(20, 1)\n"
          ],
          "name": "stdout"
        },
        {
          "output_type": "execute_result",
          "data": {
            "text/html": [
              "<div>\n",
              "<style scoped>\n",
              "    .dataframe tbody tr th:only-of-type {\n",
              "        vertical-align: middle;\n",
              "    }\n",
              "\n",
              "    .dataframe tbody tr th {\n",
              "        vertical-align: top;\n",
              "    }\n",
              "\n",
              "    .dataframe thead th {\n",
              "        text-align: right;\n",
              "    }\n",
              "</style>\n",
              "<table border=\"1\" class=\"dataframe\">\n",
              "  <thead>\n",
              "    <tr style=\"text-align: right;\">\n",
              "      <th></th>\n",
              "      <th>cuisine</th>\n",
              "    </tr>\n",
              "  </thead>\n",
              "  <tbody>\n",
              "    <tr>\n",
              "      <th>italian</th>\n",
              "      <td>7838</td>\n",
              "    </tr>\n",
              "    <tr>\n",
              "      <th>mexican</th>\n",
              "      <td>6438</td>\n",
              "    </tr>\n",
              "    <tr>\n",
              "      <th>southern_us</th>\n",
              "      <td>4320</td>\n",
              "    </tr>\n",
              "    <tr>\n",
              "      <th>indian</th>\n",
              "      <td>3003</td>\n",
              "    </tr>\n",
              "    <tr>\n",
              "      <th>chinese</th>\n",
              "      <td>2673</td>\n",
              "    </tr>\n",
              "  </tbody>\n",
              "</table>\n",
              "</div>"
            ],
            "text/plain": [
              "             cuisine\n",
              "italian         7838\n",
              "mexican         6438\n",
              "southern_us     4320\n",
              "indian          3003\n",
              "chinese         2673"
            ]
          },
          "metadata": {
            "tags": []
          },
          "execution_count": 9
        }
      ]
    },
    {
      "cell_type": "code",
      "metadata": {
        "id": "K8PhUbGAYvnY",
        "colab_type": "code",
        "outputId": "c0b559fc-70b7-4b31-cf91-32b738ed3836",
        "colab": {
          "base_uri": "https://localhost:8080/",
          "height": 554
        }
      },
      "source": [
        "sns.set_context(\"poster\")\n",
        "\n",
        "ax_cus = train_cus[:20].plot(kind='barh', figsize=(12,8), color=\"r\")\n",
        "ax_cus.set_ylabel(\"Cuisine\")\n",
        "ax_cus.set_xlabel(\"# of Recipes\")\n",
        "ax_cus.set_title('20 Most Popular Cuisines');"
      ],
      "execution_count": 0,
      "outputs": [
        {
          "output_type": "display_data",
          "data": {
            "image/png": "[encoded data removed]",
            "text/plain": [
              "<Figure size 864x576 with 1 Axes>"
            ]
          },
          "metadata": {
            "tags": []
          }
        }
      ]
    },
    {
      "cell_type": "markdown",
      "metadata": {
        "id": "HJVC089Rb0oe",
        "colab_type": "text"
      },
      "source": [
        "## Separate, Clean and Organize Ingredients"
      ]
    },
    {
      "cell_type": "code",
      "metadata": {
        "id": "Pbk51WRRP0eY",
        "colab_type": "code",
        "outputId": "69ea7f7c-05da-4da9-8628-9b11731b10e3",
        "colab": {
          "base_uri": "https://localhost:8080/",
          "height": 384
        }
      },
      "source": [
        "# Move 'ingredients' column to separate dataframe\n",
        "ingredients = pd.DataFrame(train['ingredients'].tolist())\n",
        "ingredients.head()"
      ],
      "execution_count": 0,
      "outputs": [
        {
          "output_type": "execute_result",
          "data": {
            "text/html": [
              "<div>\n",
              "<style scoped>\n",
              "    .dataframe tbody tr th:only-of-type {\n",
              "        vertical-align: middle;\n",
              "    }\n",
              "\n",
              "    .dataframe tbody tr th {\n",
              "        vertical-align: top;\n",
              "    }\n",
              "\n",
              "    .dataframe thead th {\n",
              "        text-align: right;\n",
              "    }\n",
              "</style>\n",
              "<table border=\"1\" class=\"dataframe\">\n",
              "  <thead>\n",
              "    <tr style=\"text-align: right;\">\n",
              "      <th></th>\n",
              "      <th>0</th>\n",
              "      <th>1</th>\n",
              "      <th>2</th>\n",
              "      <th>3</th>\n",
              "      <th>4</th>\n",
              "      <th>5</th>\n",
              "      <th>6</th>\n",
              "      <th>7</th>\n",
              "      <th>8</th>\n",
              "      <th>9</th>\n",
              "      <th>10</th>\n",
              "      <th>11</th>\n",
              "      <th>12</th>\n",
              "      <th>13</th>\n",
              "      <th>14</th>\n",
              "      <th>15</th>\n",
              "      <th>16</th>\n",
              "      <th>17</th>\n",
              "      <th>18</th>\n",
              "      <th>19</th>\n",
              "      <th>20</th>\n",
              "      <th>21</th>\n",
              "      <th>22</th>\n",
              "      <th>23</th>\n",
              "      <th>24</th>\n",
              "      <th>25</th>\n",
              "      <th>26</th>\n",
              "      <th>27</th>\n",
              "      <th>28</th>\n",
              "      <th>29</th>\n",
              "      <th>30</th>\n",
              "      <th>31</th>\n",
              "      <th>32</th>\n",
              "      <th>33</th>\n",
              "      <th>34</th>\n",
              "      <th>35</th>\n",
              "      <th>36</th>\n",
              "      <th>37</th>\n",
              "      <th>38</th>\n",
              "      <th>39</th>\n",
              "      <th>40</th>\n",
              "      <th>41</th>\n",
              "      <th>42</th>\n",
              "      <th>43</th>\n",
              "      <th>44</th>\n",
              "      <th>45</th>\n",
              "      <th>46</th>\n",
              "      <th>47</th>\n",
              "      <th>48</th>\n",
              "      <th>49</th>\n",
              "      <th>50</th>\n",
              "      <th>51</th>\n",
              "      <th>52</th>\n",
              "      <th>53</th>\n",
              "      <th>54</th>\n",
              "      <th>55</th>\n",
              "      <th>56</th>\n",
              "      <th>57</th>\n",
              "      <th>58</th>\n",
              "      <th>59</th>\n",
              "      <th>60</th>\n",
              "      <th>61</th>\n",
              "      <th>62</th>\n",
              "      <th>63</th>\n",
              "      <th>64</th>\n",
              "    </tr>\n",
              "  </thead>\n",
              "  <tbody>\n",
              "    <tr>\n",
              "      <th>0</th>\n",
              "      <td>romaine lettuce</td>\n",
              "      <td>black olives</td>\n",
              "      <td>grape tomatoes</td>\n",
              "      <td>garlic</td>\n",
              "      <td>pepper</td>\n",
              "      <td>purple onion</td>\n",
              "      <td>seasoning</td>\n",
              "      <td>garbanzo beans</td>\n",
              "      <td>feta cheese crumbles</td>\n",
              "      <td>None</td>\n",
              "      <td>None</td>\n",
              "      <td>None</td>\n",
              "      <td>None</td>\n",
              "      <td>None</td>\n",
              "      <td>None</td>\n",
              "      <td>None</td>\n",
              "      <td>None</td>\n",
              "      <td>None</td>\n",
              "      <td>None</td>\n",
              "      <td>None</td>\n",
              "      <td>None</td>\n",
              "      <td>None</td>\n",
              "      <td>None</td>\n",
              "      <td>None</td>\n",
              "      <td>None</td>\n",
              "      <td>None</td>\n",
              "      <td>None</td>\n",
              "      <td>None</td>\n",
              "      <td>None</td>\n",
              "      <td>None</td>\n",
              "      <td>None</td>\n",
              "      <td>None</td>\n",
              "      <td>None</td>\n",
              "      <td>None</td>\n",
              "      <td>None</td>\n",
              "      <td>None</td>\n",
              "      <td>None</td>\n",
              "      <td>None</td>\n",
              "      <td>None</td>\n",
              "      <td>None</td>\n",
              "      <td>None</td>\n",
              "      <td>None</td>\n",
              "      <td>None</td>\n",
              "      <td>None</td>\n",
              "      <td>None</td>\n",
              "      <td>None</td>\n",
              "      <td>None</td>\n",
              "      <td>None</td>\n",
              "      <td>None</td>\n",
              "      <td>None</td>\n",
              "      <td>None</td>\n",
              "      <td>None</td>\n",
              "      <td>None</td>\n",
              "      <td>None</td>\n",
              "      <td>None</td>\n",
              "      <td>None</td>\n",
              "      <td>None</td>\n",
              "      <td>None</td>\n",
              "      <td>None</td>\n",
              "      <td>None</td>\n",
              "      <td>None</td>\n",
              "      <td>None</td>\n",
              "      <td>None</td>\n",
              "      <td>None</td>\n",
              "      <td>None</td>\n",
              "    </tr>\n",
              "    <tr>\n",
              "      <th>1</th>\n",
              "      <td>plain flour</td>\n",
              "      <td>ground pepper</td>\n",
              "      <td>salt</td>\n",
              "      <td>tomatoes</td>\n",
              "      <td>ground black pepper</td>\n",
              "      <td>thyme</td>\n",
              "      <td>eggs</td>\n",
              "      <td>green tomatoes</td>\n",
              "      <td>yellow corn meal</td>\n",
              "      <td>milk</td>\n",
              "      <td>vegetable oil</td>\n",
              "      <td>None</td>\n",
              "      <td>None</td>\n",
              "      <td>None</td>\n",
              "      <td>None</td>\n",
              "      <td>None</td>\n",
              "      <td>None</td>\n",
              "      <td>None</td>\n",
              "      <td>None</td>\n",
              "      <td>None</td>\n",
              "      <td>None</td>\n",
              "      <td>None</td>\n",
              "      <td>None</td>\n",
              "      <td>None</td>\n",
              "      <td>None</td>\n",
              "      <td>None</td>\n",
              "      <td>None</td>\n",
              "      <td>None</td>\n",
              "      <td>None</td>\n",
              "      <td>None</td>\n",
              "      <td>None</td>\n",
              "      <td>None</td>\n",
              "      <td>None</td>\n",
              "      <td>None</td>\n",
              "      <td>None</td>\n",
              "      <td>None</td>\n",
              "      <td>None</td>\n",
              "      <td>None</td>\n",
              "      <td>None</td>\n",
              "      <td>None</td>\n",
              "      <td>None</td>\n",
              "      <td>None</td>\n",
              "      <td>None</td>\n",
              "      <td>None</td>\n",
              "      <td>None</td>\n",
              "      <td>None</td>\n",
              "      <td>None</td>\n",
              "      <td>None</td>\n",
              "      <td>None</td>\n",
              "      <td>None</td>\n",
              "      <td>None</td>\n",
              "      <td>None</td>\n",
              "      <td>None</td>\n",
              "      <td>None</td>\n",
              "      <td>None</td>\n",
              "      <td>None</td>\n",
              "      <td>None</td>\n",
              "      <td>None</td>\n",
              "      <td>None</td>\n",
              "      <td>None</td>\n",
              "      <td>None</td>\n",
              "      <td>None</td>\n",
              "      <td>None</td>\n",
              "      <td>None</td>\n",
              "      <td>None</td>\n",
              "    </tr>\n",
              "    <tr>\n",
              "      <th>2</th>\n",
              "      <td>eggs</td>\n",
              "      <td>pepper</td>\n",
              "      <td>salt</td>\n",
              "      <td>mayonaise</td>\n",
              "      <td>cooking oil</td>\n",
              "      <td>green chilies</td>\n",
              "      <td>grilled chicken breasts</td>\n",
              "      <td>garlic powder</td>\n",
              "      <td>yellow onion</td>\n",
              "      <td>soy sauce</td>\n",
              "      <td>butter</td>\n",
              "      <td>chicken livers</td>\n",
              "      <td>None</td>\n",
              "      <td>None</td>\n",
              "      <td>None</td>\n",
              "      <td>None</td>\n",
              "      <td>None</td>\n",
              "      <td>None</td>\n",
              "      <td>None</td>\n",
              "      <td>None</td>\n",
              "      <td>None</td>\n",
              "      <td>None</td>\n",
              "      <td>None</td>\n",
              "      <td>None</td>\n",
              "      <td>None</td>\n",
              "      <td>None</td>\n",
              "      <td>None</td>\n",
              "      <td>None</td>\n",
              "      <td>None</td>\n",
              "      <td>None</td>\n",
              "      <td>None</td>\n",
              "      <td>None</td>\n",
              "      <td>None</td>\n",
              "      <td>None</td>\n",
              "      <td>None</td>\n",
              "      <td>None</td>\n",
              "      <td>None</td>\n",
              "      <td>None</td>\n",
              "      <td>None</td>\n",
              "      <td>None</td>\n",
              "      <td>None</td>\n",
              "      <td>None</td>\n",
              "      <td>None</td>\n",
              "      <td>None</td>\n",
              "      <td>None</td>\n",
              "      <td>None</td>\n",
              "      <td>None</td>\n",
              "      <td>None</td>\n",
              "      <td>None</td>\n",
              "      <td>None</td>\n",
              "      <td>None</td>\n",
              "      <td>None</td>\n",
              "      <td>None</td>\n",
              "      <td>None</td>\n",
              "      <td>None</td>\n",
              "      <td>None</td>\n",
              "      <td>None</td>\n",
              "      <td>None</td>\n",
              "      <td>None</td>\n",
              "      <td>None</td>\n",
              "      <td>None</td>\n",
              "      <td>None</td>\n",
              "      <td>None</td>\n",
              "      <td>None</td>\n",
              "      <td>None</td>\n",
              "    </tr>\n",
              "    <tr>\n",
              "      <th>3</th>\n",
              "      <td>water</td>\n",
              "      <td>vegetable oil</td>\n",
              "      <td>wheat</td>\n",
              "      <td>salt</td>\n",
              "      <td>None</td>\n",
              "      <td>None</td>\n",
              "      <td>None</td>\n",
              "      <td>None</td>\n",
              "      <td>None</td>\n",
              "      <td>None</td>\n",
              "      <td>None</td>\n",
              "      <td>None</td>\n",
              "      <td>None</td>\n",
              "      <td>None</td>\n",
              "      <td>None</td>\n",
              "      <td>None</td>\n",
              "      <td>None</td>\n",
              "      <td>None</td>\n",
              "      <td>None</td>\n",
              "      <td>None</td>\n",
              "      <td>None</td>\n",
              "      <td>None</td>\n",
              "      <td>None</td>\n",
              "      <td>None</td>\n",
              "      <td>None</td>\n",
              "      <td>None</td>\n",
              "      <td>None</td>\n",
              "      <td>None</td>\n",
              "      <td>None</td>\n",
              "      <td>None</td>\n",
              "      <td>None</td>\n",
              "      <td>None</td>\n",
              "      <td>None</td>\n",
              "      <td>None</td>\n",
              "      <td>None</td>\n",
              "      <td>None</td>\n",
              "      <td>None</td>\n",
              "      <td>None</td>\n",
              "      <td>None</td>\n",
              "      <td>None</td>\n",
              "      <td>None</td>\n",
              "      <td>None</td>\n",
              "      <td>None</td>\n",
              "      <td>None</td>\n",
              "      <td>None</td>\n",
              "      <td>None</td>\n",
              "      <td>None</td>\n",
              "      <td>None</td>\n",
              "      <td>None</td>\n",
              "      <td>None</td>\n",
              "      <td>None</td>\n",
              "      <td>None</td>\n",
              "      <td>None</td>\n",
              "      <td>None</td>\n",
              "      <td>None</td>\n",
              "      <td>None</td>\n",
              "      <td>None</td>\n",
              "      <td>None</td>\n",
              "      <td>None</td>\n",
              "      <td>None</td>\n",
              "      <td>None</td>\n",
              "      <td>None</td>\n",
              "      <td>None</td>\n",
              "      <td>None</td>\n",
              "      <td>None</td>\n",
              "    </tr>\n",
              "    <tr>\n",
              "      <th>4</th>\n",
              "      <td>black pepper</td>\n",
              "      <td>shallots</td>\n",
              "      <td>cornflour</td>\n",
              "      <td>cayenne pepper</td>\n",
              "      <td>onions</td>\n",
              "      <td>garlic paste</td>\n",
              "      <td>milk</td>\n",
              "      <td>butter</td>\n",
              "      <td>salt</td>\n",
              "      <td>lemon juice</td>\n",
              "      <td>water</td>\n",
              "      <td>chili powder</td>\n",
              "      <td>passata</td>\n",
              "      <td>oil</td>\n",
              "      <td>ground cumin</td>\n",
              "      <td>boneless chicken skinless thigh</td>\n",
              "      <td>garam masala</td>\n",
              "      <td>double cream</td>\n",
              "      <td>natural yogurt</td>\n",
              "      <td>bay leaf</td>\n",
              "      <td>None</td>\n",
              "      <td>None</td>\n",
              "      <td>None</td>\n",
              "      <td>None</td>\n",
              "      <td>None</td>\n",
              "      <td>None</td>\n",
              "      <td>None</td>\n",
              "      <td>None</td>\n",
              "      <td>None</td>\n",
              "      <td>None</td>\n",
              "      <td>None</td>\n",
              "      <td>None</td>\n",
              "      <td>None</td>\n",
              "      <td>None</td>\n",
              "      <td>None</td>\n",
              "      <td>None</td>\n",
              "      <td>None</td>\n",
              "      <td>None</td>\n",
              "      <td>None</td>\n",
              "      <td>None</td>\n",
              "      <td>None</td>\n",
              "      <td>None</td>\n",
              "      <td>None</td>\n",
              "      <td>None</td>\n",
              "      <td>None</td>\n",
              "      <td>None</td>\n",
              "      <td>None</td>\n",
              "      <td>None</td>\n",
              "      <td>None</td>\n",
              "      <td>None</td>\n",
              "      <td>None</td>\n",
              "      <td>None</td>\n",
              "      <td>None</td>\n",
              "      <td>None</td>\n",
              "      <td>None</td>\n",
              "      <td>None</td>\n",
              "      <td>None</td>\n",
              "      <td>None</td>\n",
              "      <td>None</td>\n",
              "      <td>None</td>\n",
              "      <td>None</td>\n",
              "      <td>None</td>\n",
              "      <td>None</td>\n",
              "      <td>None</td>\n",
              "      <td>None</td>\n",
              "    </tr>\n",
              "  </tbody>\n",
              "</table>\n",
              "</div>"
            ],
            "text/plain": [
              "                0              1               2   ...    62    63    64\n",
              "0  romaine lettuce   black olives  grape tomatoes  ...  None  None  None\n",
              "1      plain flour  ground pepper            salt  ...  None  None  None\n",
              "2             eggs         pepper            salt  ...  None  None  None\n",
              "3            water  vegetable oil           wheat  ...  None  None  None\n",
              "4     black pepper       shallots       cornflour  ...  None  None  None\n",
              "\n",
              "[5 rows x 65 columns]"
            ]
          },
          "metadata": {
            "tags": []
          },
          "execution_count": 11
        }
      ]
    },
    {
      "cell_type": "code",
      "metadata": {
        "id": "qwdQjD3elYwl",
        "colab_type": "code",
        "colab": {}
      },
      "source": [
        "ingredients.replace('ground black pepper', 'pepper', inplace = True)\n",
        "ingredients.replace('ground pepper', 'pepper', inplace = True)\n",
        "ingredients.replace('black pepper', 'pepper', inplace = True)\n",
        "ingredients.replace('garlic cloves', 'garlic', inplace = True)\n",
        "ingredients.replace('unsalted butter', 'butter', inplace = True)\n",
        "ingredients.replace('large eggs', 'eggs', inplace = True)\n",
        "ingredients.replace('extra-virgin olive oil', 'olive oil', inplace = True)\n",
        "ingredients.replace('fresh lime juice', 'lime', inplace = True)\n",
        "ingredients.replace('flat leaf parsley', 'fresh parsley', inplace = True)\n",
        "ingredients.replace('grated parmesan cheese', 'parmesan cheese', inplace = True)\n",
        "ingredients.replace('fresh ginger', 'ginger', inplace = True)\n",
        "ingredients.replace('all-purpose flour', 'flour', inplace = True)\n",
        "ingredients.replace('ground cinnamon', 'cinnamon', inplace = True)\n",
        "ingredients.replace('ground turmeric', 'turmeric', inplace = True)"
      ],
      "execution_count": 0,
      "outputs": []
    },
    {
      "cell_type": "code",
      "metadata": {
        "id": "ydjebY1ZNB0a",
        "colab_type": "code",
        "outputId": "de327a5c-07f3-4af5-d5e5-e50f7cbc2a88",
        "colab": {
          "base_uri": "https://localhost:8080/",
          "height": 217
        }
      },
      "source": [
        "ingredients.isnull().sum()"
      ],
      "execution_count": 0,
      "outputs": [
        {
          "output_type": "execute_result",
          "data": {
            "text/plain": [
              "0         0\n",
              "1        22\n",
              "2       215\n",
              "3       764\n",
              "4      1892\n",
              "      ...  \n",
              "60    39773\n",
              "61    39773\n",
              "62    39773\n",
              "63    39773\n",
              "64    39773\n",
              "Length: 65, dtype: int64"
            ]
          },
          "metadata": {
            "tags": []
          },
          "execution_count": 13
        }
      ]
    },
    {
      "cell_type": "code",
      "metadata": {
        "id": "M-s-VwXIGczK",
        "colab_type": "code",
        "outputId": "5698676a-1e8c-43ba-a833-afae54f56024",
        "colab": {
          "base_uri": "https://localhost:8080/",
          "height": 217
        }
      },
      "source": [
        "ingredients= ingredients.fillna('None')\n",
        "ingredients.isnull().sum()"
      ],
      "execution_count": 0,
      "outputs": [
        {
          "output_type": "execute_result",
          "data": {
            "text/plain": [
              "0     0\n",
              "1     0\n",
              "2     0\n",
              "3     0\n",
              "4     0\n",
              "     ..\n",
              "60    0\n",
              "61    0\n",
              "62    0\n",
              "63    0\n",
              "64    0\n",
              "Length: 65, dtype: int64"
            ]
          },
          "metadata": {
            "tags": []
          },
          "execution_count": 14
        }
      ]
    },
    {
      "cell_type": "code",
      "metadata": {
        "id": "rDywVbE2JWYM",
        "colab_type": "code",
        "outputId": "07333902-f9e8-4ad1-9efa-5af8a191f745",
        "colab": {
          "base_uri": "https://localhost:8080/",
          "height": 400
        }
      },
      "source": [
        "ingredients = ingredients.replace('None', np.nan)\n",
        "print(ingredients.shape)\n",
        "ingredients.head()"
      ],
      "execution_count": 0,
      "outputs": [
        {
          "output_type": "stream",
          "text": [
            "(39774, 65)\n"
          ],
          "name": "stdout"
        },
        {
          "output_type": "execute_result",
          "data": {
            "text/html": [
              "<div>\n",
              "<style scoped>\n",
              "    .dataframe tbody tr th:only-of-type {\n",
              "        vertical-align: middle;\n",
              "    }\n",
              "\n",
              "    .dataframe tbody tr th {\n",
              "        vertical-align: top;\n",
              "    }\n",
              "\n",
              "    .dataframe thead th {\n",
              "        text-align: right;\n",
              "    }\n",
              "</style>\n",
              "<table border=\"1\" class=\"dataframe\">\n",
              "  <thead>\n",
              "    <tr style=\"text-align: right;\">\n",
              "      <th></th>\n",
              "      <th>0</th>\n",
              "      <th>1</th>\n",
              "      <th>2</th>\n",
              "      <th>3</th>\n",
              "      <th>4</th>\n",
              "      <th>5</th>\n",
              "      <th>6</th>\n",
              "      <th>7</th>\n",
              "      <th>8</th>\n",
              "      <th>9</th>\n",
              "      <th>10</th>\n",
              "      <th>11</th>\n",
              "      <th>12</th>\n",
              "      <th>13</th>\n",
              "      <th>14</th>\n",
              "      <th>15</th>\n",
              "      <th>16</th>\n",
              "      <th>17</th>\n",
              "      <th>18</th>\n",
              "      <th>19</th>\n",
              "      <th>20</th>\n",
              "      <th>21</th>\n",
              "      <th>22</th>\n",
              "      <th>23</th>\n",
              "      <th>24</th>\n",
              "      <th>25</th>\n",
              "      <th>26</th>\n",
              "      <th>27</th>\n",
              "      <th>28</th>\n",
              "      <th>29</th>\n",
              "      <th>30</th>\n",
              "      <th>31</th>\n",
              "      <th>32</th>\n",
              "      <th>33</th>\n",
              "      <th>34</th>\n",
              "      <th>35</th>\n",
              "      <th>36</th>\n",
              "      <th>37</th>\n",
              "      <th>38</th>\n",
              "      <th>39</th>\n",
              "      <th>40</th>\n",
              "      <th>41</th>\n",
              "      <th>42</th>\n",
              "      <th>43</th>\n",
              "      <th>44</th>\n",
              "      <th>45</th>\n",
              "      <th>46</th>\n",
              "      <th>47</th>\n",
              "      <th>48</th>\n",
              "      <th>49</th>\n",
              "      <th>50</th>\n",
              "      <th>51</th>\n",
              "      <th>52</th>\n",
              "      <th>53</th>\n",
              "      <th>54</th>\n",
              "      <th>55</th>\n",
              "      <th>56</th>\n",
              "      <th>57</th>\n",
              "      <th>58</th>\n",
              "      <th>59</th>\n",
              "      <th>60</th>\n",
              "      <th>61</th>\n",
              "      <th>62</th>\n",
              "      <th>63</th>\n",
              "      <th>64</th>\n",
              "    </tr>\n",
              "  </thead>\n",
              "  <tbody>\n",
              "    <tr>\n",
              "      <th>0</th>\n",
              "      <td>romaine lettuce</td>\n",
              "      <td>black olives</td>\n",
              "      <td>grape tomatoes</td>\n",
              "      <td>garlic</td>\n",
              "      <td>pepper</td>\n",
              "      <td>purple onion</td>\n",
              "      <td>seasoning</td>\n",
              "      <td>garbanzo beans</td>\n",
              "      <td>feta cheese crumbles</td>\n",
              "      <td>NaN</td>\n",
              "      <td>NaN</td>\n",
              "      <td>NaN</td>\n",
              "      <td>NaN</td>\n",
              "      <td>NaN</td>\n",
              "      <td>NaN</td>\n",
              "      <td>NaN</td>\n",
              "      <td>NaN</td>\n",
              "      <td>NaN</td>\n",
              "      <td>NaN</td>\n",
              "      <td>NaN</td>\n",
              "      <td>NaN</td>\n",
              "      <td>NaN</td>\n",
              "      <td>NaN</td>\n",
              "      <td>NaN</td>\n",
              "      <td>NaN</td>\n",
              "      <td>NaN</td>\n",
              "      <td>NaN</td>\n",
              "      <td>NaN</td>\n",
              "      <td>NaN</td>\n",
              "      <td>NaN</td>\n",
              "      <td>NaN</td>\n",
              "      <td>NaN</td>\n",
              "      <td>NaN</td>\n",
              "      <td>NaN</td>\n",
              "      <td>NaN</td>\n",
              "      <td>NaN</td>\n",
              "      <td>NaN</td>\n",
              "      <td>NaN</td>\n",
              "      <td>NaN</td>\n",
              "      <td>NaN</td>\n",
              "      <td>NaN</td>\n",
              "      <td>NaN</td>\n",
              "      <td>NaN</td>\n",
              "      <td>NaN</td>\n",
              "      <td>NaN</td>\n",
              "      <td>NaN</td>\n",
              "      <td>NaN</td>\n",
              "      <td>NaN</td>\n",
              "      <td>NaN</td>\n",
              "      <td>NaN</td>\n",
              "      <td>NaN</td>\n",
              "      <td>NaN</td>\n",
              "      <td>NaN</td>\n",
              "      <td>NaN</td>\n",
              "      <td>NaN</td>\n",
              "      <td>NaN</td>\n",
              "      <td>NaN</td>\n",
              "      <td>NaN</td>\n",
              "      <td>NaN</td>\n",
              "      <td>NaN</td>\n",
              "      <td>NaN</td>\n",
              "      <td>NaN</td>\n",
              "      <td>NaN</td>\n",
              "      <td>NaN</td>\n",
              "      <td>NaN</td>\n",
              "    </tr>\n",
              "    <tr>\n",
              "      <th>1</th>\n",
              "      <td>plain flour</td>\n",
              "      <td>pepper</td>\n",
              "      <td>salt</td>\n",
              "      <td>tomatoes</td>\n",
              "      <td>pepper</td>\n",
              "      <td>thyme</td>\n",
              "      <td>eggs</td>\n",
              "      <td>green tomatoes</td>\n",
              "      <td>yellow corn meal</td>\n",
              "      <td>milk</td>\n",
              "      <td>vegetable oil</td>\n",
              "      <td>NaN</td>\n",
              "      <td>NaN</td>\n",
              "      <td>NaN</td>\n",
              "      <td>NaN</td>\n",
              "      <td>NaN</td>\n",
              "      <td>NaN</td>\n",
              "      <td>NaN</td>\n",
              "      <td>NaN</td>\n",
              "      <td>NaN</td>\n",
              "      <td>NaN</td>\n",
              "      <td>NaN</td>\n",
              "      <td>NaN</td>\n",
              "      <td>NaN</td>\n",
              "      <td>NaN</td>\n",
              "      <td>NaN</td>\n",
              "      <td>NaN</td>\n",
              "      <td>NaN</td>\n",
              "      <td>NaN</td>\n",
              "      <td>NaN</td>\n",
              "      <td>NaN</td>\n",
              "      <td>NaN</td>\n",
              "      <td>NaN</td>\n",
              "      <td>NaN</td>\n",
              "      <td>NaN</td>\n",
              "      <td>NaN</td>\n",
              "      <td>NaN</td>\n",
              "      <td>NaN</td>\n",
              "      <td>NaN</td>\n",
              "      <td>NaN</td>\n",
              "      <td>NaN</td>\n",
              "      <td>NaN</td>\n",
              "      <td>NaN</td>\n",
              "      <td>NaN</td>\n",
              "      <td>NaN</td>\n",
              "      <td>NaN</td>\n",
              "      <td>NaN</td>\n",
              "      <td>NaN</td>\n",
              "      <td>NaN</td>\n",
              "      <td>NaN</td>\n",
              "      <td>NaN</td>\n",
              "      <td>NaN</td>\n",
              "      <td>NaN</td>\n",
              "      <td>NaN</td>\n",
              "      <td>NaN</td>\n",
              "      <td>NaN</td>\n",
              "      <td>NaN</td>\n",
              "      <td>NaN</td>\n",
              "      <td>NaN</td>\n",
              "      <td>NaN</td>\n",
              "      <td>NaN</td>\n",
              "      <td>NaN</td>\n",
              "      <td>NaN</td>\n",
              "      <td>NaN</td>\n",
              "      <td>NaN</td>\n",
              "    </tr>\n",
              "    <tr>\n",
              "      <th>2</th>\n",
              "      <td>eggs</td>\n",
              "      <td>pepper</td>\n",
              "      <td>salt</td>\n",
              "      <td>mayonaise</td>\n",
              "      <td>cooking oil</td>\n",
              "      <td>green chilies</td>\n",
              "      <td>grilled chicken breasts</td>\n",
              "      <td>garlic powder</td>\n",
              "      <td>yellow onion</td>\n",
              "      <td>soy sauce</td>\n",
              "      <td>butter</td>\n",
              "      <td>chicken livers</td>\n",
              "      <td>NaN</td>\n",
              "      <td>NaN</td>\n",
              "      <td>NaN</td>\n",
              "      <td>NaN</td>\n",
              "      <td>NaN</td>\n",
              "      <td>NaN</td>\n",
              "      <td>NaN</td>\n",
              "      <td>NaN</td>\n",
              "      <td>NaN</td>\n",
              "      <td>NaN</td>\n",
              "      <td>NaN</td>\n",
              "      <td>NaN</td>\n",
              "      <td>NaN</td>\n",
              "      <td>NaN</td>\n",
              "      <td>NaN</td>\n",
              "      <td>NaN</td>\n",
              "      <td>NaN</td>\n",
              "      <td>NaN</td>\n",
              "      <td>NaN</td>\n",
              "      <td>NaN</td>\n",
              "      <td>NaN</td>\n",
              "      <td>NaN</td>\n",
              "      <td>NaN</td>\n",
              "      <td>NaN</td>\n",
              "      <td>NaN</td>\n",
              "      <td>NaN</td>\n",
              "      <td>NaN</td>\n",
              "      <td>NaN</td>\n",
              "      <td>NaN</td>\n",
              "      <td>NaN</td>\n",
              "      <td>NaN</td>\n",
              "      <td>NaN</td>\n",
              "      <td>NaN</td>\n",
              "      <td>NaN</td>\n",
              "      <td>NaN</td>\n",
              "      <td>NaN</td>\n",
              "      <td>NaN</td>\n",
              "      <td>NaN</td>\n",
              "      <td>NaN</td>\n",
              "      <td>NaN</td>\n",
              "      <td>NaN</td>\n",
              "      <td>NaN</td>\n",
              "      <td>NaN</td>\n",
              "      <td>NaN</td>\n",
              "      <td>NaN</td>\n",
              "      <td>NaN</td>\n",
              "      <td>NaN</td>\n",
              "      <td>NaN</td>\n",
              "      <td>NaN</td>\n",
              "      <td>NaN</td>\n",
              "      <td>NaN</td>\n",
              "      <td>NaN</td>\n",
              "      <td>NaN</td>\n",
              "    </tr>\n",
              "    <tr>\n",
              "      <th>3</th>\n",
              "      <td>water</td>\n",
              "      <td>vegetable oil</td>\n",
              "      <td>wheat</td>\n",
              "      <td>salt</td>\n",
              "      <td>NaN</td>\n",
              "      <td>NaN</td>\n",
              "      <td>NaN</td>\n",
              "      <td>NaN</td>\n",
              "      <td>NaN</td>\n",
              "      <td>NaN</td>\n",
              "      <td>NaN</td>\n",
              "      <td>NaN</td>\n",
              "      <td>NaN</td>\n",
              "      <td>NaN</td>\n",
              "      <td>NaN</td>\n",
              "      <td>NaN</td>\n",
              "      <td>NaN</td>\n",
              "      <td>NaN</td>\n",
              "      <td>NaN</td>\n",
              "      <td>NaN</td>\n",
              "      <td>NaN</td>\n",
              "      <td>NaN</td>\n",
              "      <td>NaN</td>\n",
              "      <td>NaN</td>\n",
              "      <td>NaN</td>\n",
              "      <td>NaN</td>\n",
              "      <td>NaN</td>\n",
              "      <td>NaN</td>\n",
              "      <td>NaN</td>\n",
              "      <td>NaN</td>\n",
              "      <td>NaN</td>\n",
              "      <td>NaN</td>\n",
              "      <td>NaN</td>\n",
              "      <td>NaN</td>\n",
              "      <td>NaN</td>\n",
              "      <td>NaN</td>\n",
              "      <td>NaN</td>\n",
              "      <td>NaN</td>\n",
              "      <td>NaN</td>\n",
              "      <td>NaN</td>\n",
              "      <td>NaN</td>\n",
              "      <td>NaN</td>\n",
              "      <td>NaN</td>\n",
              "      <td>NaN</td>\n",
              "      <td>NaN</td>\n",
              "      <td>NaN</td>\n",
              "      <td>NaN</td>\n",
              "      <td>NaN</td>\n",
              "      <td>NaN</td>\n",
              "      <td>NaN</td>\n",
              "      <td>NaN</td>\n",
              "      <td>NaN</td>\n",
              "      <td>NaN</td>\n",
              "      <td>NaN</td>\n",
              "      <td>NaN</td>\n",
              "      <td>NaN</td>\n",
              "      <td>NaN</td>\n",
              "      <td>NaN</td>\n",
              "      <td>NaN</td>\n",
              "      <td>NaN</td>\n",
              "      <td>NaN</td>\n",
              "      <td>NaN</td>\n",
              "      <td>NaN</td>\n",
              "      <td>NaN</td>\n",
              "      <td>NaN</td>\n",
              "    </tr>\n",
              "    <tr>\n",
              "      <th>4</th>\n",
              "      <td>pepper</td>\n",
              "      <td>shallots</td>\n",
              "      <td>cornflour</td>\n",
              "      <td>cayenne pepper</td>\n",
              "      <td>onions</td>\n",
              "      <td>garlic paste</td>\n",
              "      <td>milk</td>\n",
              "      <td>butter</td>\n",
              "      <td>salt</td>\n",
              "      <td>lemon juice</td>\n",
              "      <td>water</td>\n",
              "      <td>chili powder</td>\n",
              "      <td>passata</td>\n",
              "      <td>oil</td>\n",
              "      <td>ground cumin</td>\n",
              "      <td>boneless chicken skinless thigh</td>\n",
              "      <td>garam masala</td>\n",
              "      <td>double cream</td>\n",
              "      <td>natural yogurt</td>\n",
              "      <td>bay leaf</td>\n",
              "      <td>NaN</td>\n",
              "      <td>NaN</td>\n",
              "      <td>NaN</td>\n",
              "      <td>NaN</td>\n",
              "      <td>NaN</td>\n",
              "      <td>NaN</td>\n",
              "      <td>NaN</td>\n",
              "      <td>NaN</td>\n",
              "      <td>NaN</td>\n",
              "      <td>NaN</td>\n",
              "      <td>NaN</td>\n",
              "      <td>NaN</td>\n",
              "      <td>NaN</td>\n",
              "      <td>NaN</td>\n",
              "      <td>NaN</td>\n",
              "      <td>NaN</td>\n",
              "      <td>NaN</td>\n",
              "      <td>NaN</td>\n",
              "      <td>NaN</td>\n",
              "      <td>NaN</td>\n",
              "      <td>NaN</td>\n",
              "      <td>NaN</td>\n",
              "      <td>NaN</td>\n",
              "      <td>NaN</td>\n",
              "      <td>NaN</td>\n",
              "      <td>NaN</td>\n",
              "      <td>NaN</td>\n",
              "      <td>NaN</td>\n",
              "      <td>NaN</td>\n",
              "      <td>NaN</td>\n",
              "      <td>NaN</td>\n",
              "      <td>NaN</td>\n",
              "      <td>NaN</td>\n",
              "      <td>NaN</td>\n",
              "      <td>NaN</td>\n",
              "      <td>NaN</td>\n",
              "      <td>NaN</td>\n",
              "      <td>NaN</td>\n",
              "      <td>NaN</td>\n",
              "      <td>NaN</td>\n",
              "      <td>NaN</td>\n",
              "      <td>NaN</td>\n",
              "      <td>NaN</td>\n",
              "      <td>NaN</td>\n",
              "      <td>NaN</td>\n",
              "    </tr>\n",
              "  </tbody>\n",
              "</table>\n",
              "</div>"
            ],
            "text/plain": [
              "                0              1               2   ...   62   63   64\n",
              "0  romaine lettuce   black olives  grape tomatoes  ...  NaN  NaN  NaN\n",
              "1      plain flour         pepper            salt  ...  NaN  NaN  NaN\n",
              "2             eggs         pepper            salt  ...  NaN  NaN  NaN\n",
              "3            water  vegetable oil           wheat  ...  NaN  NaN  NaN\n",
              "4           pepper       shallots       cornflour  ...  NaN  NaN  NaN\n",
              "\n",
              "[5 rows x 65 columns]"
            ]
          },
          "metadata": {
            "tags": []
          },
          "execution_count": 15
        }
      ]
    },
    {
      "cell_type": "markdown",
      "metadata": {
        "id": "s9Mx15J5cM2l",
        "colab_type": "text"
      },
      "source": [
        "## Plot top Ingredients"
      ]
    },
    {
      "cell_type": "code",
      "metadata": {
        "id": "y9t74HZLh2-O",
        "colab_type": "code",
        "outputId": "6aeb8de2-a335-49ea-8343-224fe0d57a08",
        "colab": {
          "base_uri": "https://localhost:8080/",
          "height": 134
        }
      },
      "source": [
        "top_ingredients = ingredients.stack()\n",
        "print(top_ingredients.shape)\n",
        "top_ingredients.head()"
      ],
      "execution_count": 0,
      "outputs": [
        {
          "output_type": "stream",
          "text": [
            "(428275,)\n"
          ],
          "name": "stdout"
        },
        {
          "output_type": "execute_result",
          "data": {
            "text/plain": [
              "0  0    romaine lettuce\n",
              "   1       black olives\n",
              "   2     grape tomatoes\n",
              "   3             garlic\n",
              "   4             pepper\n",
              "dtype: object"
            ]
          },
          "metadata": {
            "tags": []
          },
          "execution_count": 16
        }
      ]
    },
    {
      "cell_type": "code",
      "metadata": {
        "id": "4TOlPg4BlSAO",
        "colab_type": "code",
        "outputId": "a0c52ca4-38c9-4826-ccf9-966c4cf07510",
        "colab": {
          "base_uri": "https://localhost:8080/",
          "height": 196
        }
      },
      "source": [
        "ti = pd.DataFrame(top_ingredients.value_counts(),columns=['Count'])\n",
        "ti.head()"
      ],
      "execution_count": 0,
      "outputs": [
        {
          "output_type": "execute_result",
          "data": {
            "text/html": [
              "<div>\n",
              "<style scoped>\n",
              "    .dataframe tbody tr th:only-of-type {\n",
              "        vertical-align: middle;\n",
              "    }\n",
              "\n",
              "    .dataframe tbody tr th {\n",
              "        vertical-align: top;\n",
              "    }\n",
              "\n",
              "    .dataframe thead th {\n",
              "        text-align: right;\n",
              "    }\n",
              "</style>\n",
              "<table border=\"1\" class=\"dataframe\">\n",
              "  <thead>\n",
              "    <tr style=\"text-align: right;\">\n",
              "      <th></th>\n",
              "      <th>Count</th>\n",
              "    </tr>\n",
              "  </thead>\n",
              "  <tbody>\n",
              "    <tr>\n",
              "      <th>salt</th>\n",
              "      <td>18049</td>\n",
              "    </tr>\n",
              "    <tr>\n",
              "      <th>garlic</th>\n",
              "      <td>13617</td>\n",
              "    </tr>\n",
              "    <tr>\n",
              "      <th>pepper</th>\n",
              "      <td>12235</td>\n",
              "    </tr>\n",
              "    <tr>\n",
              "      <th>olive oil</th>\n",
              "      <td>10719</td>\n",
              "    </tr>\n",
              "    <tr>\n",
              "      <th>onions</th>\n",
              "      <td>7972</td>\n",
              "    </tr>\n",
              "  </tbody>\n",
              "</table>\n",
              "</div>"
            ],
            "text/plain": [
              "           Count\n",
              "salt       18049\n",
              "garlic     13617\n",
              "pepper     12235\n",
              "olive oil  10719\n",
              "onions      7972"
            ]
          },
          "metadata": {
            "tags": []
          },
          "execution_count": 17
        }
      ]
    },
    {
      "cell_type": "code",
      "metadata": {
        "id": "Bb4ENSPvlfdE",
        "colab_type": "code",
        "outputId": "1e3edfc1-b526-44e7-88cf-5cc5e9d4497d",
        "colab": {
          "base_uri": "https://localhost:8080/",
          "height": 554
        }
      },
      "source": [
        "sns.set_context(\"poster\")\n",
        "ax = ti[:20].plot(kind='barh', figsize=(12,8), color=\"red\")\n",
        "ax.set_ylabel(\"Ingredients\")\n",
        "ax.set_xlabel(\"# of Recipes\")\n",
        "ax.set_title('Top 20 Ingredients Used in All Recipes');"
      ],
      "execution_count": 0,
      "outputs": [
        {
          "output_type": "display_data",
          "data": {
            "image/png": "[encoded data removed]",
            "text/plain": [
              "<Figure size 864x576 with 1 Axes>"
            ]
          },
          "metadata": {
            "tags": []
          }
        }
      ]
    },
    {
      "cell_type": "code",
      "metadata": {
        "id": "52XCa3Y7Yboj",
        "colab_type": "code",
        "outputId": "28217eca-5e3c-4c70-8417-e919bbc22ef6",
        "colab": {
          "base_uri": "https://localhost:8080/",
          "height": 384
        }
      },
      "source": [
        "ingredients.columns = ['Ingredient #1', 'Ingredient #2', 'Ingredient #3', 'Ingredient #4',\n",
        "                       'Ingredient #5','Ingredient #6','Ingredient #7','Ingredient #8',\n",
        "                       'Ingredient #9','Ingredient #10','Ingredient #10','Ingredient #12',\n",
        "                       'Ingredient #13','Ingredient #14','Ingredient #15','Ingredient #16',\n",
        "                       'Ingredient #17','Ingredient #18','Ingredient #19','Ingredient #20',\n",
        "                       'Ingredient #21','Ingredient 22','Ingredient #23','Ingredient #24',\n",
        "                       'Ingredient #25','Ingredient #26','Ingredient #27','Ingredient #28',\n",
        "                       'Ingredient #29','Ingredient #30','Ingredient #31','Ingredient #32',\n",
        "                       'Ingredient #33','Ingredient #34','Ingredient #35','Ingredient #36',\n",
        "                       'Ingredient #37','Ingredient #38','Ingredient #39','Ingredient #40',\n",
        "                       'Ingredient #41','Ingredient #42','Ingredient #43','Ingredient #44',\n",
        "                       'Ingredient #45','Ingredient #46','Ingredient #47','Ingredient #48',\n",
        "                       'Ingredient #49','Ingredient #50','Ingredient #51','Ingredient #52',\n",
        "                       'Ingredient #53','Ingredient #54','Ingredient #55','Ingredient #56',\n",
        "                       'Ingredient #57','Ingredient #58','Ingredient #59','Ingredient #60',\n",
        "                       'Ingredient #61','Ingredient #62','Ingredient #63','Ingredient #64', 'Ingredient #65']\n",
        "print(ingredients.shape)\n",
        "ingredients.head()"
      ],
      "execution_count": 0,
      "outputs": [
        {
          "output_type": "stream",
          "text": [
            "(39774, 65)\n"
          ],
          "name": "stdout"
        },
        {
          "output_type": "execute_result",
          "data": {
            "text/html": [
              "<div>\n",
              "<style scoped>\n",
              "    .dataframe tbody tr th:only-of-type {\n",
              "        vertical-align: middle;\n",
              "    }\n",
              "\n",
              "    .dataframe tbody tr th {\n",
              "        vertical-align: top;\n",
              "    }\n",
              "\n",
              "    .dataframe thead th {\n",
              "        text-align: right;\n",
              "    }\n",
              "</style>\n",
              "<table border=\"1\" class=\"dataframe\">\n",
              "  <thead>\n",
              "    <tr style=\"text-align: right;\">\n",
              "      <th></th>\n",
              "      <th>Ingredient #1</th>\n",
              "      <th>Ingredient #2</th>\n",
              "      <th>Ingredient #3</th>\n",
              "      <th>Ingredient #4</th>\n",
              "      <th>Ingredient #5</th>\n",
              "      <th>Ingredient #6</th>\n",
              "      <th>Ingredient #7</th>\n",
              "      <th>Ingredient #8</th>\n",
              "      <th>Ingredient #9</th>\n",
              "      <th>Ingredient #10</th>\n",
              "      <th>Ingredient #10</th>\n",
              "      <th>Ingredient #12</th>\n",
              "      <th>Ingredient #13</th>\n",
              "      <th>Ingredient #14</th>\n",
              "      <th>Ingredient #15</th>\n",
              "      <th>Ingredient #16</th>\n",
              "      <th>Ingredient #17</th>\n",
              "      <th>Ingredient #18</th>\n",
              "      <th>Ingredient #19</th>\n",
              "      <th>Ingredient #20</th>\n",
              "      <th>Ingredient #21</th>\n",
              "      <th>Ingredient 22</th>\n",
              "      <th>Ingredient #23</th>\n",
              "      <th>Ingredient #24</th>\n",
              "      <th>Ingredient #25</th>\n",
              "      <th>Ingredient #26</th>\n",
              "      <th>Ingredient #27</th>\n",
              "      <th>Ingredient #28</th>\n",
              "      <th>Ingredient #29</th>\n",
              "      <th>Ingredient #30</th>\n",
              "      <th>Ingredient #31</th>\n",
              "      <th>Ingredient #32</th>\n",
              "      <th>Ingredient #33</th>\n",
              "      <th>Ingredient #34</th>\n",
              "      <th>Ingredient #35</th>\n",
              "      <th>Ingredient #36</th>\n",
              "      <th>Ingredient #37</th>\n",
              "      <th>Ingredient #38</th>\n",
              "      <th>Ingredient #39</th>\n",
              "      <th>Ingredient #40</th>\n",
              "      <th>Ingredient #41</th>\n",
              "      <th>Ingredient #42</th>\n",
              "      <th>Ingredient #43</th>\n",
              "      <th>Ingredient #44</th>\n",
              "      <th>Ingredient #45</th>\n",
              "      <th>Ingredient #46</th>\n",
              "      <th>Ingredient #47</th>\n",
              "      <th>Ingredient #48</th>\n",
              "      <th>Ingredient #49</th>\n",
              "      <th>Ingredient #50</th>\n",
              "      <th>Ingredient #51</th>\n",
              "      <th>Ingredient #52</th>\n",
              "      <th>Ingredient #53</th>\n",
              "      <th>Ingredient #54</th>\n",
              "      <th>Ingredient #55</th>\n",
              "      <th>Ingredient #56</th>\n",
              "      <th>Ingredient #57</th>\n",
              "      <th>Ingredient #58</th>\n",
              "      <th>Ingredient #59</th>\n",
              "      <th>Ingredient #60</th>\n",
              "      <th>Ingredient #61</th>\n",
              "      <th>Ingredient #62</th>\n",
              "      <th>Ingredient #63</th>\n",
              "      <th>Ingredient #64</th>\n",
              "      <th>Ingredient #65</th>\n",
              "    </tr>\n",
              "  </thead>\n",
              "  <tbody>\n",
              "    <tr>\n",
              "      <th>0</th>\n",
              "      <td>romaine lettuce</td>\n",
              "      <td>black olives</td>\n",
              "      <td>grape tomatoes</td>\n",
              "      <td>garlic</td>\n",
              "      <td>pepper</td>\n",
              "      <td>purple onion</td>\n",
              "      <td>seasoning</td>\n",
              "      <td>garbanzo beans</td>\n",
              "      <td>feta cheese crumbles</td>\n",
              "      <td>NaN</td>\n",
              "      <td>NaN</td>\n",
              "      <td>NaN</td>\n",
              "      <td>NaN</td>\n",
              "      <td>NaN</td>\n",
              "      <td>NaN</td>\n",
              "      <td>NaN</td>\n",
              "      <td>NaN</td>\n",
              "      <td>NaN</td>\n",
              "      <td>NaN</td>\n",
              "      <td>NaN</td>\n",
              "      <td>NaN</td>\n",
              "      <td>NaN</td>\n",
              "      <td>NaN</td>\n",
              "      <td>NaN</td>\n",
              "      <td>NaN</td>\n",
              "      <td>NaN</td>\n",
              "      <td>NaN</td>\n",
              "      <td>NaN</td>\n",
              "      <td>NaN</td>\n",
              "      <td>NaN</td>\n",
              "      <td>NaN</td>\n",
              "      <td>NaN</td>\n",
              "      <td>NaN</td>\n",
              "      <td>NaN</td>\n",
              "      <td>NaN</td>\n",
              "      <td>NaN</td>\n",
              "      <td>NaN</td>\n",
              "      <td>NaN</td>\n",
              "      <td>NaN</td>\n",
              "      <td>NaN</td>\n",
              "      <td>NaN</td>\n",
              "      <td>NaN</td>\n",
              "      <td>NaN</td>\n",
              "      <td>NaN</td>\n",
              "      <td>NaN</td>\n",
              "      <td>NaN</td>\n",
              "      <td>NaN</td>\n",
              "      <td>NaN</td>\n",
              "      <td>NaN</td>\n",
              "      <td>NaN</td>\n",
              "      <td>NaN</td>\n",
              "      <td>NaN</td>\n",
              "      <td>NaN</td>\n",
              "      <td>NaN</td>\n",
              "      <td>NaN</td>\n",
              "      <td>NaN</td>\n",
              "      <td>NaN</td>\n",
              "      <td>NaN</td>\n",
              "      <td>NaN</td>\n",
              "      <td>NaN</td>\n",
              "      <td>NaN</td>\n",
              "      <td>NaN</td>\n",
              "      <td>NaN</td>\n",
              "      <td>NaN</td>\n",
              "      <td>NaN</td>\n",
              "    </tr>\n",
              "    <tr>\n",
              "      <th>1</th>\n",
              "      <td>plain flour</td>\n",
              "      <td>pepper</td>\n",
              "      <td>salt</td>\n",
              "      <td>tomatoes</td>\n",
              "      <td>pepper</td>\n",
              "      <td>thyme</td>\n",
              "      <td>eggs</td>\n",
              "      <td>green tomatoes</td>\n",
              "      <td>yellow corn meal</td>\n",
              "      <td>milk</td>\n",
              "      <td>vegetable oil</td>\n",
              "      <td>NaN</td>\n",
              "      <td>NaN</td>\n",
              "      <td>NaN</td>\n",
              "      <td>NaN</td>\n",
              "      <td>NaN</td>\n",
              "      <td>NaN</td>\n",
              "      <td>NaN</td>\n",
              "      <td>NaN</td>\n",
              "      <td>NaN</td>\n",
              "      <td>NaN</td>\n",
              "      <td>NaN</td>\n",
              "      <td>NaN</td>\n",
              "      <td>NaN</td>\n",
              "      <td>NaN</td>\n",
              "      <td>NaN</td>\n",
              "      <td>NaN</td>\n",
              "      <td>NaN</td>\n",
              "      <td>NaN</td>\n",
              "      <td>NaN</td>\n",
              "      <td>NaN</td>\n",
              "      <td>NaN</td>\n",
              "      <td>NaN</td>\n",
              "      <td>NaN</td>\n",
              "      <td>NaN</td>\n",
              "      <td>NaN</td>\n",
              "      <td>NaN</td>\n",
              "      <td>NaN</td>\n",
              "      <td>NaN</td>\n",
              "      <td>NaN</td>\n",
              "      <td>NaN</td>\n",
              "      <td>NaN</td>\n",
              "      <td>NaN</td>\n",
              "      <td>NaN</td>\n",
              "      <td>NaN</td>\n",
              "      <td>NaN</td>\n",
              "      <td>NaN</td>\n",
              "      <td>NaN</td>\n",
              "      <td>NaN</td>\n",
              "      <td>NaN</td>\n",
              "      <td>NaN</td>\n",
              "      <td>NaN</td>\n",
              "      <td>NaN</td>\n",
              "      <td>NaN</td>\n",
              "      <td>NaN</td>\n",
              "      <td>NaN</td>\n",
              "      <td>NaN</td>\n",
              "      <td>NaN</td>\n",
              "      <td>NaN</td>\n",
              "      <td>NaN</td>\n",
              "      <td>NaN</td>\n",
              "      <td>NaN</td>\n",
              "      <td>NaN</td>\n",
              "      <td>NaN</td>\n",
              "      <td>NaN</td>\n",
              "    </tr>\n",
              "    <tr>\n",
              "      <th>2</th>\n",
              "      <td>eggs</td>\n",
              "      <td>pepper</td>\n",
              "      <td>salt</td>\n",
              "      <td>mayonaise</td>\n",
              "      <td>cooking oil</td>\n",
              "      <td>green chilies</td>\n",
              "      <td>grilled chicken breasts</td>\n",
              "      <td>garlic powder</td>\n",
              "      <td>yellow onion</td>\n",
              "      <td>soy sauce</td>\n",
              "      <td>butter</td>\n",
              "      <td>chicken livers</td>\n",
              "      <td>NaN</td>\n",
              "      <td>NaN</td>\n",
              "      <td>NaN</td>\n",
              "      <td>NaN</td>\n",
              "      <td>NaN</td>\n",
              "      <td>NaN</td>\n",
              "      <td>NaN</td>\n",
              "      <td>NaN</td>\n",
              "      <td>NaN</td>\n",
              "      <td>NaN</td>\n",
              "      <td>NaN</td>\n",
              "      <td>NaN</td>\n",
              "      <td>NaN</td>\n",
              "      <td>NaN</td>\n",
              "      <td>NaN</td>\n",
              "      <td>NaN</td>\n",
              "      <td>NaN</td>\n",
              "      <td>NaN</td>\n",
              "      <td>NaN</td>\n",
              "      <td>NaN</td>\n",
              "      <td>NaN</td>\n",
              "      <td>NaN</td>\n",
              "      <td>NaN</td>\n",
              "      <td>NaN</td>\n",
              "      <td>NaN</td>\n",
              "      <td>NaN</td>\n",
              "      <td>NaN</td>\n",
              "      <td>NaN</td>\n",
              "      <td>NaN</td>\n",
              "      <td>NaN</td>\n",
              "      <td>NaN</td>\n",
              "      <td>NaN</td>\n",
              "      <td>NaN</td>\n",
              "      <td>NaN</td>\n",
              "      <td>NaN</td>\n",
              "      <td>NaN</td>\n",
              "      <td>NaN</td>\n",
              "      <td>NaN</td>\n",
              "      <td>NaN</td>\n",
              "      <td>NaN</td>\n",
              "      <td>NaN</td>\n",
              "      <td>NaN</td>\n",
              "      <td>NaN</td>\n",
              "      <td>NaN</td>\n",
              "      <td>NaN</td>\n",
              "      <td>NaN</td>\n",
              "      <td>NaN</td>\n",
              "      <td>NaN</td>\n",
              "      <td>NaN</td>\n",
              "      <td>NaN</td>\n",
              "      <td>NaN</td>\n",
              "      <td>NaN</td>\n",
              "      <td>NaN</td>\n",
              "    </tr>\n",
              "    <tr>\n",
              "      <th>3</th>\n",
              "      <td>water</td>\n",
              "      <td>vegetable oil</td>\n",
              "      <td>wheat</td>\n",
              "      <td>salt</td>\n",
              "      <td>NaN</td>\n",
              "      <td>NaN</td>\n",
              "      <td>NaN</td>\n",
              "      <td>NaN</td>\n",
              "      <td>NaN</td>\n",
              "      <td>NaN</td>\n",
              "      <td>NaN</td>\n",
              "      <td>NaN</td>\n",
              "      <td>NaN</td>\n",
              "      <td>NaN</td>\n",
              "      <td>NaN</td>\n",
              "      <td>NaN</td>\n",
              "      <td>NaN</td>\n",
              "      <td>NaN</td>\n",
              "      <td>NaN</td>\n",
              "      <td>NaN</td>\n",
              "      <td>NaN</td>\n",
              "      <td>NaN</td>\n",
              "      <td>NaN</td>\n",
              "      <td>NaN</td>\n",
              "      <td>NaN</td>\n",
              "      <td>NaN</td>\n",
              "      <td>NaN</td>\n",
              "      <td>NaN</td>\n",
              "      <td>NaN</td>\n",
              "      <td>NaN</td>\n",
              "      <td>NaN</td>\n",
              "      <td>NaN</td>\n",
              "      <td>NaN</td>\n",
              "      <td>NaN</td>\n",
              "      <td>NaN</td>\n",
              "      <td>NaN</td>\n",
              "      <td>NaN</td>\n",
              "      <td>NaN</td>\n",
              "      <td>NaN</td>\n",
              "      <td>NaN</td>\n",
              "      <td>NaN</td>\n",
              "      <td>NaN</td>\n",
              "      <td>NaN</td>\n",
              "      <td>NaN</td>\n",
              "      <td>NaN</td>\n",
              "      <td>NaN</td>\n",
              "      <td>NaN</td>\n",
              "      <td>NaN</td>\n",
              "      <td>NaN</td>\n",
              "      <td>NaN</td>\n",
              "      <td>NaN</td>\n",
              "      <td>NaN</td>\n",
              "      <td>NaN</td>\n",
              "      <td>NaN</td>\n",
              "      <td>NaN</td>\n",
              "      <td>NaN</td>\n",
              "      <td>NaN</td>\n",
              "      <td>NaN</td>\n",
              "      <td>NaN</td>\n",
              "      <td>NaN</td>\n",
              "      <td>NaN</td>\n",
              "      <td>NaN</td>\n",
              "      <td>NaN</td>\n",
              "      <td>NaN</td>\n",
              "      <td>NaN</td>\n",
              "    </tr>\n",
              "    <tr>\n",
              "      <th>4</th>\n",
              "      <td>pepper</td>\n",
              "      <td>shallots</td>\n",
              "      <td>cornflour</td>\n",
              "      <td>cayenne pepper</td>\n",
              "      <td>onions</td>\n",
              "      <td>garlic paste</td>\n",
              "      <td>milk</td>\n",
              "      <td>butter</td>\n",
              "      <td>salt</td>\n",
              "      <td>lemon juice</td>\n",
              "      <td>water</td>\n",
              "      <td>chili powder</td>\n",
              "      <td>passata</td>\n",
              "      <td>oil</td>\n",
              "      <td>ground cumin</td>\n",
              "      <td>boneless chicken skinless thigh</td>\n",
              "      <td>garam masala</td>\n",
              "      <td>double cream</td>\n",
              "      <td>natural yogurt</td>\n",
              "      <td>bay leaf</td>\n",
              "      <td>NaN</td>\n",
              "      <td>NaN</td>\n",
              "      <td>NaN</td>\n",
              "      <td>NaN</td>\n",
              "      <td>NaN</td>\n",
              "      <td>NaN</td>\n",
              "      <td>NaN</td>\n",
              "      <td>NaN</td>\n",
              "      <td>NaN</td>\n",
              "      <td>NaN</td>\n",
              "      <td>NaN</td>\n",
              "      <td>NaN</td>\n",
              "      <td>NaN</td>\n",
              "      <td>NaN</td>\n",
              "      <td>NaN</td>\n",
              "      <td>NaN</td>\n",
              "      <td>NaN</td>\n",
              "      <td>NaN</td>\n",
              "      <td>NaN</td>\n",
              "      <td>NaN</td>\n",
              "      <td>NaN</td>\n",
              "      <td>NaN</td>\n",
              "      <td>NaN</td>\n",
              "      <td>NaN</td>\n",
              "      <td>NaN</td>\n",
              "      <td>NaN</td>\n",
              "      <td>NaN</td>\n",
              "      <td>NaN</td>\n",
              "      <td>NaN</td>\n",
              "      <td>NaN</td>\n",
              "      <td>NaN</td>\n",
              "      <td>NaN</td>\n",
              "      <td>NaN</td>\n",
              "      <td>NaN</td>\n",
              "      <td>NaN</td>\n",
              "      <td>NaN</td>\n",
              "      <td>NaN</td>\n",
              "      <td>NaN</td>\n",
              "      <td>NaN</td>\n",
              "      <td>NaN</td>\n",
              "      <td>NaN</td>\n",
              "      <td>NaN</td>\n",
              "      <td>NaN</td>\n",
              "      <td>NaN</td>\n",
              "      <td>NaN</td>\n",
              "    </tr>\n",
              "  </tbody>\n",
              "</table>\n",
              "</div>"
            ],
            "text/plain": [
              "     Ingredient #1  Ingredient #2  ... Ingredient #64 Ingredient #65\n",
              "0  romaine lettuce   black olives  ...            NaN            NaN\n",
              "1      plain flour         pepper  ...            NaN            NaN\n",
              "2             eggs         pepper  ...            NaN            NaN\n",
              "3            water  vegetable oil  ...            NaN            NaN\n",
              "4           pepper       shallots  ...            NaN            NaN\n",
              "\n",
              "[5 rows x 65 columns]"
            ]
          },
          "metadata": {
            "tags": []
          },
          "execution_count": 19
        }
      ]
    },
    {
      "cell_type": "markdown",
      "metadata": {
        "id": "eToMKPJfckkN",
        "colab_type": "text"
      },
      "source": [
        "## Join Ingredients and Cuisine "
      ]
    },
    {
      "cell_type": "code",
      "metadata": {
        "id": "krS8XXXeK_UQ",
        "colab_type": "code",
        "outputId": "0da712cb-f015-4428-d531-a08226fa1636",
        "colab": {
          "base_uri": "https://localhost:8080/",
          "height": 384
        }
      },
      "source": [
        "# Join datasets back together, drop 'ingedients' column, rename 'id' column to 'Recipe ID'\n",
        "df = pd.concat([train,ingredients], axis=1).drop(['ingredients'], axis=1)\n",
        "df.rename(columns={'id':'Recipe ID'}, inplace=True)\n",
        "print(df.shape)\n",
        "df.head()"
      ],
      "execution_count": 0,
      "outputs": [
        {
          "output_type": "stream",
          "text": [
            "(39774, 67)\n"
          ],
          "name": "stdout"
        },
        {
          "output_type": "execute_result",
          "data": {
            "text/html": [
              "<div>\n",
              "<style scoped>\n",
              "    .dataframe tbody tr th:only-of-type {\n",
              "        vertical-align: middle;\n",
              "    }\n",
              "\n",
              "    .dataframe tbody tr th {\n",
              "        vertical-align: top;\n",
              "    }\n",
              "\n",
              "    .dataframe thead th {\n",
              "        text-align: right;\n",
              "    }\n",
              "</style>\n",
              "<table border=\"1\" class=\"dataframe\">\n",
              "  <thead>\n",
              "    <tr style=\"text-align: right;\">\n",
              "      <th></th>\n",
              "      <th>Recipe ID</th>\n",
              "      <th>cuisine</th>\n",
              "      <th>Ingredient #1</th>\n",
              "      <th>Ingredient #2</th>\n",
              "      <th>Ingredient #3</th>\n",
              "      <th>Ingredient #4</th>\n",
              "      <th>Ingredient #5</th>\n",
              "      <th>Ingredient #6</th>\n",
              "      <th>Ingredient #7</th>\n",
              "      <th>Ingredient #8</th>\n",
              "      <th>Ingredient #9</th>\n",
              "      <th>Ingredient #10</th>\n",
              "      <th>Ingredient #10</th>\n",
              "      <th>Ingredient #12</th>\n",
              "      <th>Ingredient #13</th>\n",
              "      <th>Ingredient #14</th>\n",
              "      <th>Ingredient #15</th>\n",
              "      <th>Ingredient #16</th>\n",
              "      <th>Ingredient #17</th>\n",
              "      <th>Ingredient #18</th>\n",
              "      <th>Ingredient #19</th>\n",
              "      <th>Ingredient #20</th>\n",
              "      <th>Ingredient #21</th>\n",
              "      <th>Ingredient 22</th>\n",
              "      <th>Ingredient #23</th>\n",
              "      <th>Ingredient #24</th>\n",
              "      <th>Ingredient #25</th>\n",
              "      <th>Ingredient #26</th>\n",
              "      <th>Ingredient #27</th>\n",
              "      <th>Ingredient #28</th>\n",
              "      <th>Ingredient #29</th>\n",
              "      <th>Ingredient #30</th>\n",
              "      <th>Ingredient #31</th>\n",
              "      <th>Ingredient #32</th>\n",
              "      <th>Ingredient #33</th>\n",
              "      <th>Ingredient #34</th>\n",
              "      <th>Ingredient #35</th>\n",
              "      <th>Ingredient #36</th>\n",
              "      <th>Ingredient #37</th>\n",
              "      <th>Ingredient #38</th>\n",
              "      <th>Ingredient #39</th>\n",
              "      <th>Ingredient #40</th>\n",
              "      <th>Ingredient #41</th>\n",
              "      <th>Ingredient #42</th>\n",
              "      <th>Ingredient #43</th>\n",
              "      <th>Ingredient #44</th>\n",
              "      <th>Ingredient #45</th>\n",
              "      <th>Ingredient #46</th>\n",
              "      <th>Ingredient #47</th>\n",
              "      <th>Ingredient #48</th>\n",
              "      <th>Ingredient #49</th>\n",
              "      <th>Ingredient #50</th>\n",
              "      <th>Ingredient #51</th>\n",
              "      <th>Ingredient #52</th>\n",
              "      <th>Ingredient #53</th>\n",
              "      <th>Ingredient #54</th>\n",
              "      <th>Ingredient #55</th>\n",
              "      <th>Ingredient #56</th>\n",
              "      <th>Ingredient #57</th>\n",
              "      <th>Ingredient #58</th>\n",
              "      <th>Ingredient #59</th>\n",
              "      <th>Ingredient #60</th>\n",
              "      <th>Ingredient #61</th>\n",
              "      <th>Ingredient #62</th>\n",
              "      <th>Ingredient #63</th>\n",
              "      <th>Ingredient #64</th>\n",
              "      <th>Ingredient #65</th>\n",
              "    </tr>\n",
              "  </thead>\n",
              "  <tbody>\n",
              "    <tr>\n",
              "      <th>0</th>\n",
              "      <td>10259</td>\n",
              "      <td>greek</td>\n",
              "      <td>romaine lettuce</td>\n",
              "      <td>black olives</td>\n",
              "      <td>grape tomatoes</td>\n",
              "      <td>garlic</td>\n",
              "      <td>pepper</td>\n",
              "      <td>purple onion</td>\n",
              "      <td>seasoning</td>\n",
              "      <td>garbanzo beans</td>\n",
              "      <td>feta cheese crumbles</td>\n",
              "      <td>NaN</td>\n",
              "      <td>NaN</td>\n",
              "      <td>NaN</td>\n",
              "      <td>NaN</td>\n",
              "      <td>NaN</td>\n",
              "      <td>NaN</td>\n",
              "      <td>NaN</td>\n",
              "      <td>NaN</td>\n",
              "      <td>NaN</td>\n",
              "      <td>NaN</td>\n",
              "      <td>NaN</td>\n",
              "      <td>NaN</td>\n",
              "      <td>NaN</td>\n",
              "      <td>NaN</td>\n",
              "      <td>NaN</td>\n",
              "      <td>NaN</td>\n",
              "      <td>NaN</td>\n",
              "      <td>NaN</td>\n",
              "      <td>NaN</td>\n",
              "      <td>NaN</td>\n",
              "      <td>NaN</td>\n",
              "      <td>NaN</td>\n",
              "      <td>NaN</td>\n",
              "      <td>NaN</td>\n",
              "      <td>NaN</td>\n",
              "      <td>NaN</td>\n",
              "      <td>NaN</td>\n",
              "      <td>NaN</td>\n",
              "      <td>NaN</td>\n",
              "      <td>NaN</td>\n",
              "      <td>NaN</td>\n",
              "      <td>NaN</td>\n",
              "      <td>NaN</td>\n",
              "      <td>NaN</td>\n",
              "      <td>NaN</td>\n",
              "      <td>NaN</td>\n",
              "      <td>NaN</td>\n",
              "      <td>NaN</td>\n",
              "      <td>NaN</td>\n",
              "      <td>NaN</td>\n",
              "      <td>NaN</td>\n",
              "      <td>NaN</td>\n",
              "      <td>NaN</td>\n",
              "      <td>NaN</td>\n",
              "      <td>NaN</td>\n",
              "      <td>NaN</td>\n",
              "      <td>NaN</td>\n",
              "      <td>NaN</td>\n",
              "      <td>NaN</td>\n",
              "      <td>NaN</td>\n",
              "      <td>NaN</td>\n",
              "      <td>NaN</td>\n",
              "      <td>NaN</td>\n",
              "      <td>NaN</td>\n",
              "      <td>NaN</td>\n",
              "      <td>NaN</td>\n",
              "    </tr>\n",
              "    <tr>\n",
              "      <th>1</th>\n",
              "      <td>25693</td>\n",
              "      <td>southern_us</td>\n",
              "      <td>plain flour</td>\n",
              "      <td>pepper</td>\n",
              "      <td>salt</td>\n",
              "      <td>tomatoes</td>\n",
              "      <td>pepper</td>\n",
              "      <td>thyme</td>\n",
              "      <td>eggs</td>\n",
              "      <td>green tomatoes</td>\n",
              "      <td>yellow corn meal</td>\n",
              "      <td>milk</td>\n",
              "      <td>vegetable oil</td>\n",
              "      <td>NaN</td>\n",
              "      <td>NaN</td>\n",
              "      <td>NaN</td>\n",
              "      <td>NaN</td>\n",
              "      <td>NaN</td>\n",
              "      <td>NaN</td>\n",
              "      <td>NaN</td>\n",
              "      <td>NaN</td>\n",
              "      <td>NaN</td>\n",
              "      <td>NaN</td>\n",
              "      <td>NaN</td>\n",
              "      <td>NaN</td>\n",
              "      <td>NaN</td>\n",
              "      <td>NaN</td>\n",
              "      <td>NaN</td>\n",
              "      <td>NaN</td>\n",
              "      <td>NaN</td>\n",
              "      <td>NaN</td>\n",
              "      <td>NaN</td>\n",
              "      <td>NaN</td>\n",
              "      <td>NaN</td>\n",
              "      <td>NaN</td>\n",
              "      <td>NaN</td>\n",
              "      <td>NaN</td>\n",
              "      <td>NaN</td>\n",
              "      <td>NaN</td>\n",
              "      <td>NaN</td>\n",
              "      <td>NaN</td>\n",
              "      <td>NaN</td>\n",
              "      <td>NaN</td>\n",
              "      <td>NaN</td>\n",
              "      <td>NaN</td>\n",
              "      <td>NaN</td>\n",
              "      <td>NaN</td>\n",
              "      <td>NaN</td>\n",
              "      <td>NaN</td>\n",
              "      <td>NaN</td>\n",
              "      <td>NaN</td>\n",
              "      <td>NaN</td>\n",
              "      <td>NaN</td>\n",
              "      <td>NaN</td>\n",
              "      <td>NaN</td>\n",
              "      <td>NaN</td>\n",
              "      <td>NaN</td>\n",
              "      <td>NaN</td>\n",
              "      <td>NaN</td>\n",
              "      <td>NaN</td>\n",
              "      <td>NaN</td>\n",
              "      <td>NaN</td>\n",
              "      <td>NaN</td>\n",
              "      <td>NaN</td>\n",
              "      <td>NaN</td>\n",
              "      <td>NaN</td>\n",
              "      <td>NaN</td>\n",
              "    </tr>\n",
              "    <tr>\n",
              "      <th>2</th>\n",
              "      <td>20130</td>\n",
              "      <td>filipino</td>\n",
              "      <td>eggs</td>\n",
              "      <td>pepper</td>\n",
              "      <td>salt</td>\n",
              "      <td>mayonaise</td>\n",
              "      <td>cooking oil</td>\n",
              "      <td>green chilies</td>\n",
              "      <td>grilled chicken breasts</td>\n",
              "      <td>garlic powder</td>\n",
              "      <td>yellow onion</td>\n",
              "      <td>soy sauce</td>\n",
              "      <td>butter</td>\n",
              "      <td>chicken livers</td>\n",
              "      <td>NaN</td>\n",
              "      <td>NaN</td>\n",
              "      <td>NaN</td>\n",
              "      <td>NaN</td>\n",
              "      <td>NaN</td>\n",
              "      <td>NaN</td>\n",
              "      <td>NaN</td>\n",
              "      <td>NaN</td>\n",
              "      <td>NaN</td>\n",
              "      <td>NaN</td>\n",
              "      <td>NaN</td>\n",
              "      <td>NaN</td>\n",
              "      <td>NaN</td>\n",
              "      <td>NaN</td>\n",
              "      <td>NaN</td>\n",
              "      <td>NaN</td>\n",
              "      <td>NaN</td>\n",
              "      <td>NaN</td>\n",
              "      <td>NaN</td>\n",
              "      <td>NaN</td>\n",
              "      <td>NaN</td>\n",
              "      <td>NaN</td>\n",
              "      <td>NaN</td>\n",
              "      <td>NaN</td>\n",
              "      <td>NaN</td>\n",
              "      <td>NaN</td>\n",
              "      <td>NaN</td>\n",
              "      <td>NaN</td>\n",
              "      <td>NaN</td>\n",
              "      <td>NaN</td>\n",
              "      <td>NaN</td>\n",
              "      <td>NaN</td>\n",
              "      <td>NaN</td>\n",
              "      <td>NaN</td>\n",
              "      <td>NaN</td>\n",
              "      <td>NaN</td>\n",
              "      <td>NaN</td>\n",
              "      <td>NaN</td>\n",
              "      <td>NaN</td>\n",
              "      <td>NaN</td>\n",
              "      <td>NaN</td>\n",
              "      <td>NaN</td>\n",
              "      <td>NaN</td>\n",
              "      <td>NaN</td>\n",
              "      <td>NaN</td>\n",
              "      <td>NaN</td>\n",
              "      <td>NaN</td>\n",
              "      <td>NaN</td>\n",
              "      <td>NaN</td>\n",
              "      <td>NaN</td>\n",
              "      <td>NaN</td>\n",
              "      <td>NaN</td>\n",
              "      <td>NaN</td>\n",
              "    </tr>\n",
              "    <tr>\n",
              "      <th>3</th>\n",
              "      <td>22213</td>\n",
              "      <td>indian</td>\n",
              "      <td>water</td>\n",
              "      <td>vegetable oil</td>\n",
              "      <td>wheat</td>\n",
              "      <td>salt</td>\n",
              "      <td>NaN</td>\n",
              "      <td>NaN</td>\n",
              "      <td>NaN</td>\n",
              "      <td>NaN</td>\n",
              "      <td>NaN</td>\n",
              "      <td>NaN</td>\n",
              "      <td>NaN</td>\n",
              "      <td>NaN</td>\n",
              "      <td>NaN</td>\n",
              "      <td>NaN</td>\n",
              "      <td>NaN</td>\n",
              "      <td>NaN</td>\n",
              "      <td>NaN</td>\n",
              "      <td>NaN</td>\n",
              "      <td>NaN</td>\n",
              "      <td>NaN</td>\n",
              "      <td>NaN</td>\n",
              "      <td>NaN</td>\n",
              "      <td>NaN</td>\n",
              "      <td>NaN</td>\n",
              "      <td>NaN</td>\n",
              "      <td>NaN</td>\n",
              "      <td>NaN</td>\n",
              "      <td>NaN</td>\n",
              "      <td>NaN</td>\n",
              "      <td>NaN</td>\n",
              "      <td>NaN</td>\n",
              "      <td>NaN</td>\n",
              "      <td>NaN</td>\n",
              "      <td>NaN</td>\n",
              "      <td>NaN</td>\n",
              "      <td>NaN</td>\n",
              "      <td>NaN</td>\n",
              "      <td>NaN</td>\n",
              "      <td>NaN</td>\n",
              "      <td>NaN</td>\n",
              "      <td>NaN</td>\n",
              "      <td>NaN</td>\n",
              "      <td>NaN</td>\n",
              "      <td>NaN</td>\n",
              "      <td>NaN</td>\n",
              "      <td>NaN</td>\n",
              "      <td>NaN</td>\n",
              "      <td>NaN</td>\n",
              "      <td>NaN</td>\n",
              "      <td>NaN</td>\n",
              "      <td>NaN</td>\n",
              "      <td>NaN</td>\n",
              "      <td>NaN</td>\n",
              "      <td>NaN</td>\n",
              "      <td>NaN</td>\n",
              "      <td>NaN</td>\n",
              "      <td>NaN</td>\n",
              "      <td>NaN</td>\n",
              "      <td>NaN</td>\n",
              "      <td>NaN</td>\n",
              "      <td>NaN</td>\n",
              "      <td>NaN</td>\n",
              "      <td>NaN</td>\n",
              "      <td>NaN</td>\n",
              "      <td>NaN</td>\n",
              "    </tr>\n",
              "    <tr>\n",
              "      <th>4</th>\n",
              "      <td>13162</td>\n",
              "      <td>indian</td>\n",
              "      <td>pepper</td>\n",
              "      <td>shallots</td>\n",
              "      <td>cornflour</td>\n",
              "      <td>cayenne pepper</td>\n",
              "      <td>onions</td>\n",
              "      <td>garlic paste</td>\n",
              "      <td>milk</td>\n",
              "      <td>butter</td>\n",
              "      <td>salt</td>\n",
              "      <td>lemon juice</td>\n",
              "      <td>water</td>\n",
              "      <td>chili powder</td>\n",
              "      <td>passata</td>\n",
              "      <td>oil</td>\n",
              "      <td>ground cumin</td>\n",
              "      <td>boneless chicken skinless thigh</td>\n",
              "      <td>garam masala</td>\n",
              "      <td>double cream</td>\n",
              "      <td>natural yogurt</td>\n",
              "      <td>bay leaf</td>\n",
              "      <td>NaN</td>\n",
              "      <td>NaN</td>\n",
              "      <td>NaN</td>\n",
              "      <td>NaN</td>\n",
              "      <td>NaN</td>\n",
              "      <td>NaN</td>\n",
              "      <td>NaN</td>\n",
              "      <td>NaN</td>\n",
              "      <td>NaN</td>\n",
              "      <td>NaN</td>\n",
              "      <td>NaN</td>\n",
              "      <td>NaN</td>\n",
              "      <td>NaN</td>\n",
              "      <td>NaN</td>\n",
              "      <td>NaN</td>\n",
              "      <td>NaN</td>\n",
              "      <td>NaN</td>\n",
              "      <td>NaN</td>\n",
              "      <td>NaN</td>\n",
              "      <td>NaN</td>\n",
              "      <td>NaN</td>\n",
              "      <td>NaN</td>\n",
              "      <td>NaN</td>\n",
              "      <td>NaN</td>\n",
              "      <td>NaN</td>\n",
              "      <td>NaN</td>\n",
              "      <td>NaN</td>\n",
              "      <td>NaN</td>\n",
              "      <td>NaN</td>\n",
              "      <td>NaN</td>\n",
              "      <td>NaN</td>\n",
              "      <td>NaN</td>\n",
              "      <td>NaN</td>\n",
              "      <td>NaN</td>\n",
              "      <td>NaN</td>\n",
              "      <td>NaN</td>\n",
              "      <td>NaN</td>\n",
              "      <td>NaN</td>\n",
              "      <td>NaN</td>\n",
              "      <td>NaN</td>\n",
              "      <td>NaN</td>\n",
              "      <td>NaN</td>\n",
              "      <td>NaN</td>\n",
              "      <td>NaN</td>\n",
              "      <td>NaN</td>\n",
              "    </tr>\n",
              "  </tbody>\n",
              "</table>\n",
              "</div>"
            ],
            "text/plain": [
              "   Recipe ID      cuisine  ... Ingredient #64 Ingredient #65\n",
              "0      10259        greek  ...            NaN            NaN\n",
              "1      25693  southern_us  ...            NaN            NaN\n",
              "2      20130     filipino  ...            NaN            NaN\n",
              "3      22213       indian  ...            NaN            NaN\n",
              "4      13162       indian  ...            NaN            NaN\n",
              "\n",
              "[5 rows x 67 columns]"
            ]
          },
          "metadata": {
            "tags": []
          },
          "execution_count": 20
        }
      ]
    },
    {
      "cell_type": "code",
      "metadata": {
        "id": "V8US_BZR4TvA",
        "colab_type": "code",
        "outputId": "6a058262-d0ed-4008-96c1-6552041e1aae",
        "colab": {
          "base_uri": "https://localhost:8080/",
          "height": 213
        }
      },
      "source": [
        "# Stack Ingreditns columns on top of eachother\n",
        "df_melt= df.melt(id_vars='cuisine', value_vars=['Ingredient #1', 'Ingredient #2', 'Ingredient #3', 'Ingredient #4',\n",
        "                       'Ingredient #5','Ingredient #6','Ingredient #7','Ingredient #8',\n",
        "                       'Ingredient #9','Ingredient #10','Ingredient #10','Ingredient #12',\n",
        "                       'Ingredient #13','Ingredient #14','Ingredient #15','Ingredient #16',\n",
        "                       'Ingredient #17','Ingredient #18','Ingredient #19','Ingredient #20',\n",
        "                       'Ingredient #21','Ingredient 22','Ingredient #23','Ingredient #24',\n",
        "                       'Ingredient #25','Ingredient #26','Ingredient #27','Ingredient #28',\n",
        "                       'Ingredient #29','Ingredient #30','Ingredient #31','Ingredient #32',\n",
        "                       'Ingredient #33','Ingredient #34','Ingredient #35','Ingredient #36',\n",
        "                       'Ingredient #37','Ingredient #38','Ingredient #39','Ingredient #40',\n",
        "                       'Ingredient #41','Ingredient #42','Ingredient #43','Ingredient #44',\n",
        "                       'Ingredient #45','Ingredient #46','Ingredient #47','Ingredient #48',\n",
        "                       'Ingredient #49','Ingredient #50','Ingredient #51','Ingredient #52',\n",
        "                       'Ingredient #53','Ingredient #54','Ingredient #55','Ingredient #56',\n",
        "                       'Ingredient #57','Ingredient #58','Ingredient #59','Ingredient #60',\n",
        "                       'Ingredient #61','Ingredient #62','Ingredient #63','Ingredient #64',\n",
        "                       'Ingredient #65'])\n",
        "print(df_melt.shape)\n",
        "df_melt.head()"
      ],
      "execution_count": 0,
      "outputs": [
        {
          "output_type": "stream",
          "text": [
            "(2664858, 3)\n"
          ],
          "name": "stdout"
        },
        {
          "output_type": "execute_result",
          "data": {
            "text/html": [
              "<div>\n",
              "<style scoped>\n",
              "    .dataframe tbody tr th:only-of-type {\n",
              "        vertical-align: middle;\n",
              "    }\n",
              "\n",
              "    .dataframe tbody tr th {\n",
              "        vertical-align: top;\n",
              "    }\n",
              "\n",
              "    .dataframe thead th {\n",
              "        text-align: right;\n",
              "    }\n",
              "</style>\n",
              "<table border=\"1\" class=\"dataframe\">\n",
              "  <thead>\n",
              "    <tr style=\"text-align: right;\">\n",
              "      <th></th>\n",
              "      <th>cuisine</th>\n",
              "      <th>variable</th>\n",
              "      <th>value</th>\n",
              "    </tr>\n",
              "  </thead>\n",
              "  <tbody>\n",
              "    <tr>\n",
              "      <th>0</th>\n",
              "      <td>greek</td>\n",
              "      <td>Ingredient #1</td>\n",
              "      <td>romaine lettuce</td>\n",
              "    </tr>\n",
              "    <tr>\n",
              "      <th>1</th>\n",
              "      <td>southern_us</td>\n",
              "      <td>Ingredient #1</td>\n",
              "      <td>plain flour</td>\n",
              "    </tr>\n",
              "    <tr>\n",
              "      <th>2</th>\n",
              "      <td>filipino</td>\n",
              "      <td>Ingredient #1</td>\n",
              "      <td>eggs</td>\n",
              "    </tr>\n",
              "    <tr>\n",
              "      <th>3</th>\n",
              "      <td>indian</td>\n",
              "      <td>Ingredient #1</td>\n",
              "      <td>water</td>\n",
              "    </tr>\n",
              "    <tr>\n",
              "      <th>4</th>\n",
              "      <td>indian</td>\n",
              "      <td>Ingredient #1</td>\n",
              "      <td>pepper</td>\n",
              "    </tr>\n",
              "  </tbody>\n",
              "</table>\n",
              "</div>"
            ],
            "text/plain": [
              "       cuisine       variable            value\n",
              "0        greek  Ingredient #1  romaine lettuce\n",
              "1  southern_us  Ingredient #1      plain flour\n",
              "2     filipino  Ingredient #1             eggs\n",
              "3       indian  Ingredient #1            water\n",
              "4       indian  Ingredient #1           pepper"
            ]
          },
          "metadata": {
            "tags": []
          },
          "execution_count": 21
        }
      ]
    },
    {
      "cell_type": "code",
      "metadata": {
        "id": "-0o_0EBPtQo8",
        "colab_type": "code",
        "colab": {}
      },
      "source": [
        "df_melt = pd.DataFrame(df_melt)"
      ],
      "execution_count": 0,
      "outputs": []
    },
    {
      "cell_type": "code",
      "metadata": {
        "id": "ArbLKabk-FDF",
        "colab_type": "code",
        "outputId": "60427086-63ea-4b70-b9a4-4e5f2a8b0110",
        "colab": {
          "base_uri": "https://localhost:8080/",
          "height": 213
        }
      },
      "source": [
        "df_melt.columns=['cuisine','ingredient #', 'ingredients']\n",
        "print(df_melt.shape)\n",
        "df_melt.head()"
      ],
      "execution_count": 0,
      "outputs": [
        {
          "output_type": "stream",
          "text": [
            "(2664858, 3)\n"
          ],
          "name": "stdout"
        },
        {
          "output_type": "execute_result",
          "data": {
            "text/html": [
              "<div>\n",
              "<style scoped>\n",
              "    .dataframe tbody tr th:only-of-type {\n",
              "        vertical-align: middle;\n",
              "    }\n",
              "\n",
              "    .dataframe tbody tr th {\n",
              "        vertical-align: top;\n",
              "    }\n",
              "\n",
              "    .dataframe thead th {\n",
              "        text-align: right;\n",
              "    }\n",
              "</style>\n",
              "<table border=\"1\" class=\"dataframe\">\n",
              "  <thead>\n",
              "    <tr style=\"text-align: right;\">\n",
              "      <th></th>\n",
              "      <th>cuisine</th>\n",
              "      <th>ingredient #</th>\n",
              "      <th>ingredients</th>\n",
              "    </tr>\n",
              "  </thead>\n",
              "  <tbody>\n",
              "    <tr>\n",
              "      <th>0</th>\n",
              "      <td>greek</td>\n",
              "      <td>Ingredient #1</td>\n",
              "      <td>romaine lettuce</td>\n",
              "    </tr>\n",
              "    <tr>\n",
              "      <th>1</th>\n",
              "      <td>southern_us</td>\n",
              "      <td>Ingredient #1</td>\n",
              "      <td>plain flour</td>\n",
              "    </tr>\n",
              "    <tr>\n",
              "      <th>2</th>\n",
              "      <td>filipino</td>\n",
              "      <td>Ingredient #1</td>\n",
              "      <td>eggs</td>\n",
              "    </tr>\n",
              "    <tr>\n",
              "      <th>3</th>\n",
              "      <td>indian</td>\n",
              "      <td>Ingredient #1</td>\n",
              "      <td>water</td>\n",
              "    </tr>\n",
              "    <tr>\n",
              "      <th>4</th>\n",
              "      <td>indian</td>\n",
              "      <td>Ingredient #1</td>\n",
              "      <td>pepper</td>\n",
              "    </tr>\n",
              "  </tbody>\n",
              "</table>\n",
              "</div>"
            ],
            "text/plain": [
              "       cuisine   ingredient #      ingredients\n",
              "0        greek  Ingredient #1  romaine lettuce\n",
              "1  southern_us  Ingredient #1      plain flour\n",
              "2     filipino  Ingredient #1             eggs\n",
              "3       indian  Ingredient #1            water\n",
              "4       indian  Ingredient #1           pepper"
            ]
          },
          "metadata": {
            "tags": []
          },
          "execution_count": 23
        }
      ]
    },
    {
      "cell_type": "code",
      "metadata": {
        "id": "Qj76qmj09gd0",
        "colab_type": "code",
        "colab": {}
      },
      "source": [
        "# Dataset of all ingredients sorted by cuisine and counted\n",
        "sorted_by_ingredients = pd.DataFrame(df_melt.groupby('cuisine')['ingredients'].value_counts())\n",
        "sorted_by_ingredients.columns = ['count']"
      ],
      "execution_count": 0,
      "outputs": []
    },
    {
      "cell_type": "code",
      "metadata": {
        "id": "_vJAwu0d2hyT",
        "colab_type": "code",
        "outputId": "545821a2-ae3a-42e7-dbf9-cbfd42f4432d",
        "colab": {
          "base_uri": "https://localhost:8080/",
          "height": 243
        }
      },
      "source": [
        "sorted_by_ingredients= pd.DataFrame(sorted_by_ingredients.reset_index().set_index('cuisine'))\n",
        "print(sorted_by_ingredients.shape)\n",
        "sorted_by_ingredients.head()"
      ],
      "execution_count": 0,
      "outputs": [
        {
          "output_type": "stream",
          "text": [
            "(28930, 2)\n"
          ],
          "name": "stdout"
        },
        {
          "output_type": "execute_result",
          "data": {
            "text/html": [
              "<div>\n",
              "<style scoped>\n",
              "    .dataframe tbody tr th:only-of-type {\n",
              "        vertical-align: middle;\n",
              "    }\n",
              "\n",
              "    .dataframe tbody tr th {\n",
              "        vertical-align: top;\n",
              "    }\n",
              "\n",
              "    .dataframe thead th {\n",
              "        text-align: right;\n",
              "    }\n",
              "</style>\n",
              "<table border=\"1\" class=\"dataframe\">\n",
              "  <thead>\n",
              "    <tr style=\"text-align: right;\">\n",
              "      <th></th>\n",
              "      <th>ingredients</th>\n",
              "      <th>count</th>\n",
              "    </tr>\n",
              "    <tr>\n",
              "      <th>cuisine</th>\n",
              "      <th></th>\n",
              "      <th></th>\n",
              "    </tr>\n",
              "  </thead>\n",
              "  <tbody>\n",
              "    <tr>\n",
              "      <th>brazilian</th>\n",
              "      <td>salt</td>\n",
              "      <td>216</td>\n",
              "    </tr>\n",
              "    <tr>\n",
              "      <th>brazilian</th>\n",
              "      <td>garlic</td>\n",
              "      <td>191</td>\n",
              "    </tr>\n",
              "    <tr>\n",
              "      <th>brazilian</th>\n",
              "      <td>onions</td>\n",
              "      <td>149</td>\n",
              "    </tr>\n",
              "    <tr>\n",
              "      <th>brazilian</th>\n",
              "      <td>olive oil</td>\n",
              "      <td>145</td>\n",
              "    </tr>\n",
              "    <tr>\n",
              "      <th>brazilian</th>\n",
              "      <td>pepper</td>\n",
              "      <td>140</td>\n",
              "    </tr>\n",
              "  </tbody>\n",
              "</table>\n",
              "</div>"
            ],
            "text/plain": [
              "          ingredients  count\n",
              "cuisine                     \n",
              "brazilian        salt    216\n",
              "brazilian      garlic    191\n",
              "brazilian      onions    149\n",
              "brazilian   olive oil    145\n",
              "brazilian      pepper    140"
            ]
          },
          "metadata": {
            "tags": []
          },
          "execution_count": 25
        }
      ]
    },
    {
      "cell_type": "markdown",
      "metadata": {
        "id": "pSaypR79eU4M",
        "colab_type": "text"
      },
      "source": [
        "## Create and plot dataset with 5 top cuisines and 15 top ingredients"
      ]
    },
    {
      "cell_type": "code",
      "metadata": {
        "id": "cVunM22vYciM",
        "colab_type": "code",
        "colab": {}
      },
      "source": [
        "# Select top 5 cuisines\n",
        "select_cuisine = sorted_by_ingredients.loc[['italian','mexican', 'southern_us', 'indian', 'chinese']]"
      ],
      "execution_count": 0,
      "outputs": []
    },
    {
      "cell_type": "code",
      "metadata": {
        "id": "7SEv1giiYceu",
        "colab_type": "code",
        "outputId": "e24b9d58-6aa1-4ea3-e08e-04c9b61b548a",
        "colab": {
          "base_uri": "https://localhost:8080/",
          "height": 392
        }
      },
      "source": [
        "select_cuisine = pd.DataFrame(select_cuisine.reset_index().set_index('ingredients'))\n",
        "print(select_cuisine.shape)\n",
        "select_cuisine.head(10)"
      ],
      "execution_count": 0,
      "outputs": [
        {
          "output_type": "stream",
          "text": [
            "(11466, 2)\n"
          ],
          "name": "stdout"
        },
        {
          "output_type": "execute_result",
          "data": {
            "text/html": [
              "<div>\n",
              "<style scoped>\n",
              "    .dataframe tbody tr th:only-of-type {\n",
              "        vertical-align: middle;\n",
              "    }\n",
              "\n",
              "    .dataframe tbody tr th {\n",
              "        vertical-align: top;\n",
              "    }\n",
              "\n",
              "    .dataframe thead th {\n",
              "        text-align: right;\n",
              "    }\n",
              "</style>\n",
              "<table border=\"1\" class=\"dataframe\">\n",
              "  <thead>\n",
              "    <tr style=\"text-align: right;\">\n",
              "      <th></th>\n",
              "      <th>cuisine</th>\n",
              "      <th>count</th>\n",
              "    </tr>\n",
              "    <tr>\n",
              "      <th>ingredients</th>\n",
              "      <th></th>\n",
              "      <th></th>\n",
              "    </tr>\n",
              "  </thead>\n",
              "  <tbody>\n",
              "    <tr>\n",
              "      <th>olive oil</th>\n",
              "      <td>italian</td>\n",
              "      <td>4827</td>\n",
              "    </tr>\n",
              "    <tr>\n",
              "      <th>salt</th>\n",
              "      <td>italian</td>\n",
              "      <td>3846</td>\n",
              "    </tr>\n",
              "    <tr>\n",
              "      <th>pepper</th>\n",
              "      <td>italian</td>\n",
              "      <td>3429</td>\n",
              "    </tr>\n",
              "    <tr>\n",
              "      <th>garlic</th>\n",
              "      <td>italian</td>\n",
              "      <td>3406</td>\n",
              "    </tr>\n",
              "    <tr>\n",
              "      <th>parmesan cheese</th>\n",
              "      <td>italian</td>\n",
              "      <td>2227</td>\n",
              "    </tr>\n",
              "    <tr>\n",
              "      <th>butter</th>\n",
              "      <td>italian</td>\n",
              "      <td>1747</td>\n",
              "    </tr>\n",
              "    <tr>\n",
              "      <th>fresh parsley</th>\n",
              "      <td>italian</td>\n",
              "      <td>1377</td>\n",
              "    </tr>\n",
              "    <tr>\n",
              "      <th>onions</th>\n",
              "      <td>italian</td>\n",
              "      <td>1377</td>\n",
              "    </tr>\n",
              "    <tr>\n",
              "      <th>eggs</th>\n",
              "      <td>italian</td>\n",
              "      <td>1346</td>\n",
              "    </tr>\n",
              "    <tr>\n",
              "      <th>flour</th>\n",
              "      <td>italian</td>\n",
              "      <td>1182</td>\n",
              "    </tr>\n",
              "  </tbody>\n",
              "</table>\n",
              "</div>"
            ],
            "text/plain": [
              "                 cuisine  count\n",
              "ingredients                    \n",
              "olive oil        italian   4827\n",
              "salt             italian   3846\n",
              "pepper           italian   3429\n",
              "garlic           italian   3406\n",
              "parmesan cheese  italian   2227\n",
              "butter           italian   1747\n",
              "fresh parsley    italian   1377\n",
              "onions           italian   1377\n",
              "eggs             italian   1346\n",
              "flour            italian   1182"
            ]
          },
          "metadata": {
            "tags": []
          },
          "execution_count": 27
        }
      ]
    },
    {
      "cell_type": "code",
      "metadata": {
        "id": "rfacnj6nY7gP",
        "colab_type": "code",
        "colab": {}
      },
      "source": [
        "# Select top 15 Ingredients\n",
        "top20_in_cuisines = select_cuisine.loc[['salt','garlic', 'pepper', 'olive oil', 'onions', 'butter',\n",
        "                       'water', 'sugar', 'eggs', 'flour', 'vegetable oil',\n",
        "                       'soy sauce', 'ginger', 'kosher salt', 'green onions']]"
      ],
      "execution_count": 0,
      "outputs": []
    },
    {
      "cell_type": "code",
      "metadata": {
        "id": "t4ZVQ7NVY7cx",
        "colab_type": "code",
        "outputId": "72e4e6af-c4f7-484a-d6cf-5610e4bd1c42",
        "colab": {
          "base_uri": "https://localhost:8080/",
          "height": 213
        }
      },
      "source": [
        "top20_in_cuisines = pd.DataFrame(top20_in_cuisines.reset_index())\n",
        "print(top20_in_cuisines.shape)\n",
        "top20_in_cuisines.head()"
      ],
      "execution_count": 0,
      "outputs": [
        {
          "output_type": "stream",
          "text": [
            "(75, 3)\n"
          ],
          "name": "stdout"
        },
        {
          "output_type": "execute_result",
          "data": {
            "text/html": [
              "<div>\n",
              "<style scoped>\n",
              "    .dataframe tbody tr th:only-of-type {\n",
              "        vertical-align: middle;\n",
              "    }\n",
              "\n",
              "    .dataframe tbody tr th {\n",
              "        vertical-align: top;\n",
              "    }\n",
              "\n",
              "    .dataframe thead th {\n",
              "        text-align: right;\n",
              "    }\n",
              "</style>\n",
              "<table border=\"1\" class=\"dataframe\">\n",
              "  <thead>\n",
              "    <tr style=\"text-align: right;\">\n",
              "      <th></th>\n",
              "      <th>ingredients</th>\n",
              "      <th>cuisine</th>\n",
              "      <th>count</th>\n",
              "    </tr>\n",
              "  </thead>\n",
              "  <tbody>\n",
              "    <tr>\n",
              "      <th>0</th>\n",
              "      <td>salt</td>\n",
              "      <td>italian</td>\n",
              "      <td>3846</td>\n",
              "    </tr>\n",
              "    <tr>\n",
              "      <th>1</th>\n",
              "      <td>salt</td>\n",
              "      <td>mexican</td>\n",
              "      <td>2981</td>\n",
              "    </tr>\n",
              "    <tr>\n",
              "      <th>2</th>\n",
              "      <td>salt</td>\n",
              "      <td>southern_us</td>\n",
              "      <td>2505</td>\n",
              "    </tr>\n",
              "    <tr>\n",
              "      <th>3</th>\n",
              "      <td>salt</td>\n",
              "      <td>indian</td>\n",
              "      <td>2161</td>\n",
              "    </tr>\n",
              "    <tr>\n",
              "      <th>4</th>\n",
              "      <td>salt</td>\n",
              "      <td>chinese</td>\n",
              "      <td>994</td>\n",
              "    </tr>\n",
              "  </tbody>\n",
              "</table>\n",
              "</div>"
            ],
            "text/plain": [
              "  ingredients      cuisine  count\n",
              "0        salt      italian   3846\n",
              "1        salt      mexican   2981\n",
              "2        salt  southern_us   2505\n",
              "3        salt       indian   2161\n",
              "4        salt      chinese    994"
            ]
          },
          "metadata": {
            "tags": []
          },
          "execution_count": 29
        }
      ]
    },
    {
      "cell_type": "code",
      "metadata": {
        "id": "zvvOaUOLXhe2",
        "colab_type": "code",
        "outputId": "a2b2cb0b-d943-49d7-a53b-2ff44d58e407",
        "colab": {
          "base_uri": "https://localhost:8080/",
          "height": 870
        }
      },
      "source": [
        "sns.set(style=\"darkgrid\")\n",
        "f, ax_top20 = plt.subplots(figsize=(18, 13))\n",
        "sns.violinplot(x=\"count\",y=\"ingredients\",data = top20_in_cuisines, palette=\"Paired\", inner=\"stick\", bw =.2, scale = 'count', linewidth=.8)\n",
        "sns.despine(left=True)\n",
        "f.suptitle('Top 15 Ingredients in 5 Most Popular Cuisines', fontsize=18, fontweight='bold')\n",
        "ax_top20.set_xlabel(\"Distribution across top 5 Cuisines\",size = 16,alpha=0.7)\n",
        "ax_top20.set_ylabel(\"15 Most Popular Ingredients\",size = 16,alpha=0.7);"
      ],
      "execution_count": 0,
      "outputs": [
        {
          "output_type": "display_data",
          "data": {
            "image/png": "[encoded data removed]",
            "text/plain": [
              "<Figure size 1296x936 with 1 Axes>"
            ]
          },
          "metadata": {
            "tags": []
          }
        }
      ]
    },
    {
      "cell_type": "markdown",
      "metadata": {
        "id": "0-arQvSXhONc",
        "colab_type": "text"
      },
      "source": [
        "## Standirdize above plot"
      ]
    },
    {
      "cell_type": "code",
      "metadata": {
        "id": "TQm3PdDdu6Kz",
        "colab_type": "code",
        "colab": {}
      },
      "source": [
        "# Copy dataset\n",
        "top20 = top20_in_cuisines.copy()"
      ],
      "execution_count": 0,
      "outputs": []
    },
    {
      "cell_type": "code",
      "metadata": {
        "id": "suE02XAodFSB",
        "colab_type": "code",
        "outputId": "90368b58-1610-49b7-81be-10cfa05516a1",
        "colab": {
          "base_uri": "https://localhost:8080/",
          "height": 50
        }
      },
      "source": [
        "cat_cols = top20.columns[top20.dtypes=='object']\n",
        "num_cols = top20.columns[top20.dtypes!='object']\n",
        "\n",
        "print(f'{len(cat_cols)} categorical columns')\n",
        "print(f'{len(num_cols)} numerical columns')"
      ],
      "execution_count": 0,
      "outputs": [
        {
          "output_type": "stream",
          "text": [
            "2 categorical columns\n",
            "1 numerical columns\n"
          ],
          "name": "stdout"
        }
      ]
    },
    {
      "cell_type": "code",
      "metadata": {
        "id": "tfTlbFqOi7Pm",
        "colab_type": "code",
        "outputId": "3eb2037c-4bff-4cb5-c1e8-4c5ee87fa8b9",
        "colab": {
          "base_uri": "https://localhost:8080/",
          "height": 84
        }
      },
      "source": [
        "top20[cat_cols] = top20[cat_cols].astype('category')\n",
        "top20.dtypes"
      ],
      "execution_count": 0,
      "outputs": [
        {
          "output_type": "execute_result",
          "data": {
            "text/plain": [
              "ingredients    category\n",
              "cuisine        category\n",
              "count             int64\n",
              "dtype: object"
            ]
          },
          "metadata": {
            "tags": []
          },
          "execution_count": 33
        }
      ]
    },
    {
      "cell_type": "code",
      "metadata": {
        "id": "nsIjIunqjUtH",
        "colab_type": "code",
        "outputId": "3d5d9a72-4b72-473f-8caf-df234a073ee2",
        "colab": {
          "base_uri": "https://localhost:8080/",
          "height": 213
        }
      },
      "source": [
        "for col in cat_cols:\n",
        "  top20[col] = top20[col].cat.codes\n",
        "\n",
        "print(top20.shape)\n",
        "top20.head()"
      ],
      "execution_count": 0,
      "outputs": [
        {
          "output_type": "stream",
          "text": [
            "(75, 3)\n"
          ],
          "name": "stdout"
        },
        {
          "output_type": "execute_result",
          "data": {
            "text/html": [
              "<div>\n",
              "<style scoped>\n",
              "    .dataframe tbody tr th:only-of-type {\n",
              "        vertical-align: middle;\n",
              "    }\n",
              "\n",
              "    .dataframe tbody tr th {\n",
              "        vertical-align: top;\n",
              "    }\n",
              "\n",
              "    .dataframe thead th {\n",
              "        text-align: right;\n",
              "    }\n",
              "</style>\n",
              "<table border=\"1\" class=\"dataframe\">\n",
              "  <thead>\n",
              "    <tr style=\"text-align: right;\">\n",
              "      <th></th>\n",
              "      <th>ingredients</th>\n",
              "      <th>cuisine</th>\n",
              "      <th>count</th>\n",
              "    </tr>\n",
              "  </thead>\n",
              "  <tbody>\n",
              "    <tr>\n",
              "      <th>0</th>\n",
              "      <td>10</td>\n",
              "      <td>2</td>\n",
              "      <td>3846</td>\n",
              "    </tr>\n",
              "    <tr>\n",
              "      <th>1</th>\n",
              "      <td>10</td>\n",
              "      <td>3</td>\n",
              "      <td>2981</td>\n",
              "    </tr>\n",
              "    <tr>\n",
              "      <th>2</th>\n",
              "      <td>10</td>\n",
              "      <td>4</td>\n",
              "      <td>2505</td>\n",
              "    </tr>\n",
              "    <tr>\n",
              "      <th>3</th>\n",
              "      <td>10</td>\n",
              "      <td>1</td>\n",
              "      <td>2161</td>\n",
              "    </tr>\n",
              "    <tr>\n",
              "      <th>4</th>\n",
              "      <td>10</td>\n",
              "      <td>0</td>\n",
              "      <td>994</td>\n",
              "    </tr>\n",
              "  </tbody>\n",
              "</table>\n",
              "</div>"
            ],
            "text/plain": [
              "   ingredients  cuisine  count\n",
              "0           10        2   3846\n",
              "1           10        3   2981\n",
              "2           10        4   2505\n",
              "3           10        1   2161\n",
              "4           10        0    994"
            ]
          },
          "metadata": {
            "tags": []
          },
          "execution_count": 34
        }
      ]
    },
    {
      "cell_type": "code",
      "metadata": {
        "id": "IrUd4Vkcjjo9",
        "colab_type": "code",
        "outputId": "8edaa7bb-ce0c-49cb-dbf6-a2bbb61e502a",
        "colab": {
          "base_uri": "https://localhost:8080/",
          "height": 1000
        }
      },
      "source": [
        "from sklearn.preprocessing import StandardScaler\n",
        "scaler = StandardScaler()\n",
        "top20 = scaler.fit_transform(top20)\n",
        "top20"
      ],
      "execution_count": 0,
      "outputs": [
        {
          "output_type": "execute_result",
          "data": {
            "text/plain": [
              "array([[ 6.94365075e-01,  0.00000000e+00,  2.98528637e+00],\n",
              "       [ 6.94365075e-01,  7.07106781e-01,  2.08254953e+00],\n",
              "       [ 6.94365075e-01,  1.41421356e+00,  1.58578336e+00],\n",
              "       [ 6.94365075e-01, -7.07106781e-01,  1.22677588e+00],\n",
              "       [ 6.94365075e-01, -1.41421356e+00,  8.86386691e-03],\n",
              "       [-9.25820100e-01,  0.00000000e+00,  2.52609075e+00],\n",
              "       [-9.25820100e-01,  7.07106781e-01,  1.55551820e+00],\n",
              "       [-9.25820100e-01,  1.41421356e+00, -3.75190649e-01],\n",
              "       [-9.25820100e-01, -7.07106781e-01,  3.56391459e-01],\n",
              "       [-9.25820100e-01, -1.41421356e+00,  3.72045855e-01],\n",
              "       [ 4.62910050e-01,  0.00000000e+00,  2.55009416e+00],\n",
              "       [ 4.62910050e-01,  7.07106781e-01,  1.06918829e+00],\n",
              "       [ 4.62910050e-01,  1.41421356e+00,  4.55535967e-01],\n",
              "       [ 4.62910050e-01, -7.07106781e-01, -3.52230868e-01],\n",
              "       [ 4.62910050e-01, -1.41421356e+00, -5.01469444e-01],\n",
              "       [ 0.00000000e+00,  0.00000000e+00,  4.00908387e+00],\n",
              "       [ 0.00000000e+00,  7.07106781e-01,  6.98700919e-01],\n",
              "       [ 0.00000000e+00,  1.41421356e+00, -5.70348787e-01],\n",
              "       [ 0.00000000e+00, -7.07106781e-01, -5.41127247e-01],\n",
              "       [ 0.00000000e+00, -1.41421356e+00, -8.56302421e-01],\n",
              "       [ 2.31455025e-01,  0.00000000e+00,  4.08572779e-01],\n",
              "       [ 2.31455025e-01,  7.07106781e-01,  7.13311689e-01],\n",
              "       [ 2.31455025e-01,  1.41421356e+00, -4.81640542e-01],\n",
              "       [ 2.31455025e-01, -7.07106781e-01,  3.68914976e-01],\n",
              "       [ 2.31455025e-01, -1.41421356e+00, -6.91409449e-01],\n",
              "       [-1.62018517e+00,  0.00000000e+00,  7.94714548e-01],\n",
              "       [-1.62018517e+00,  7.07106781e-01, -4.30502849e-01],\n",
              "       [-1.62018517e+00,  1.41421356e+00,  1.11719511e+00],\n",
              "       [-1.62018517e+00, -7.07106781e-01, -6.42359008e-01],\n",
              "       [-1.62018517e+00, -1.41421356e+00, -9.51272424e-01],\n",
              "       [ 1.62018517e+00,  0.00000000e+00,  1.45578926e-01],\n",
              "       [ 1.62018517e+00,  7.07106781e-01, -5.28770711e-04],\n",
              "       [ 1.62018517e+00,  1.41421356e+00, -2.59348119e-01],\n",
              "       [ 1.62018517e+00, -7.07106781e-01, -7.98443773e-02],\n",
              "       [ 1.62018517e+00, -1.41421356e+00, -1.56029105e-01],\n",
              "       [ 1.15727512e+00,  0.00000000e+00, -1.87337897e-01],\n",
              "       [ 1.15727512e+00,  7.07106781e-01, -6.44446261e-01],\n",
              "       [ 1.15727512e+00,  1.41421356e+00,  1.42448046e-01],\n",
              "       [ 1.15727512e+00, -7.07106781e-01, -6.56969778e-01],\n",
              "       [ 1.15727512e+00, -1.41421356e+00, -9.44551470e-02],\n",
              "       [-1.38873015e+00,  0.00000000e+00,  3.76220361e-01],\n",
              "       [-1.38873015e+00,  7.07106781e-01, -4.48244497e-01],\n",
              "       [-1.38873015e+00,  1.41421356e+00,  5.06673661e-01],\n",
              "       [-1.38873015e+00, -7.07106781e-01, -9.03265609e-01],\n",
              "       [-1.38873015e+00, -1.41421356e+00, -5.28603731e-01],\n",
              "       [-1.15727512e+00,  0.00000000e+00,  2.05065631e-01],\n",
              "       [-1.15727512e+00,  7.07106781e-01, -4.61811641e-01],\n",
              "       [-1.15727512e+00,  1.41421356e+00,  6.80959270e-01],\n",
              "       [-1.15727512e+00, -7.07106781e-01, -7.81161320e-01],\n",
              "       [-1.15727512e+00, -1.41421356e+00, -7.71768682e-01],\n",
              "       [ 1.38873015e+00,  0.00000000e+00, -7.32110879e-01],\n",
              "       [ 1.38873015e+00,  7.07106781e-01, -1.40374709e-01],\n",
              "       [ 1.38873015e+00,  1.41421356e+00, -5.22341972e-01],\n",
              "       [ 1.38873015e+00, -7.07106781e-01, -3.55361748e-01],\n",
              "       [ 1.38873015e+00, -1.41421356e+00, -3.31358340e-01],\n",
              "       [ 9.25820100e-01,  0.00000000e+00, -1.01180275e+00],\n",
              "       [ 9.25820100e-01,  7.07106781e-01, -9.77363084e-01],\n",
              "       [ 9.25820100e-01,  1.41421356e+00, -1.00658462e+00],\n",
              "       [ 9.25820100e-01, -7.07106781e-01, -1.00554100e+00],\n",
              "       [ 9.25820100e-01, -1.41421356e+00,  5.31720695e-01],\n",
              "       [-6.94365075e-01,  0.00000000e+00, -1.02328265e+00],\n",
              "       [-6.94365075e-01,  7.07106781e-01, -1.00762825e+00],\n",
              "       [-6.94365075e-01,  1.41421356e+00, -9.94061106e-01],\n",
              "       [-6.94365075e-01, -7.07106781e-01,  3.59981534e-02],\n",
              "       [-6.94365075e-01, -1.41421356e+00,  8.92230999e-02],\n",
              "       [-2.31455025e-01,  0.00000000e+00, -3.06311307e-01],\n",
              "       [-2.31455025e-01,  7.07106781e-01, -3.45969110e-01],\n",
              "       [-2.31455025e-01,  1.41421356e+00, -6.39228129e-01],\n",
              "       [-2.31455025e-01, -7.07106781e-01, -7.41503517e-01],\n",
              "       [-2.31455025e-01, -1.41421356e+00, -8.19775497e-01],\n",
              "       [-4.62910050e-01,  0.00000000e+00, -8.64651432e-01],\n",
              "       [-4.62910050e-01,  7.07106781e-01, -3.03180428e-01],\n",
              "       [-4.62910050e-01,  1.41421356e+00, -8.29168134e-01],\n",
              "       [-4.62910050e-01, -7.07106781e-01, -9.80493963e-01],\n",
              "       [-4.62910050e-01, -1.41421356e+00, -2.92744163e-01]])"
            ]
          },
          "metadata": {
            "tags": []
          },
          "execution_count": 35
        }
      ]
    },
    {
      "cell_type": "code",
      "metadata": {
        "id": "FW3DX9DOdF1Z",
        "colab_type": "code",
        "outputId": "be1a3628-2e71-4005-9c30-3594641e92a8",
        "colab": {
          "base_uri": "https://localhost:8080/",
          "height": 213
        }
      },
      "source": [
        "standardized= pd.DataFrame(top20)\n",
        "print(standardized.shape)\n",
        "standardized.head()"
      ],
      "execution_count": 0,
      "outputs": [
        {
          "output_type": "stream",
          "text": [
            "(75, 3)\n"
          ],
          "name": "stdout"
        },
        {
          "output_type": "execute_result",
          "data": {
            "text/html": [
              "<div>\n",
              "<style scoped>\n",
              "    .dataframe tbody tr th:only-of-type {\n",
              "        vertical-align: middle;\n",
              "    }\n",
              "\n",
              "    .dataframe tbody tr th {\n",
              "        vertical-align: top;\n",
              "    }\n",
              "\n",
              "    .dataframe thead th {\n",
              "        text-align: right;\n",
              "    }\n",
              "</style>\n",
              "<table border=\"1\" class=\"dataframe\">\n",
              "  <thead>\n",
              "    <tr style=\"text-align: right;\">\n",
              "      <th></th>\n",
              "      <th>0</th>\n",
              "      <th>1</th>\n",
              "      <th>2</th>\n",
              "    </tr>\n",
              "  </thead>\n",
              "  <tbody>\n",
              "    <tr>\n",
              "      <th>0</th>\n",
              "      <td>0.694365</td>\n",
              "      <td>0.000000</td>\n",
              "      <td>2.985286</td>\n",
              "    </tr>\n",
              "    <tr>\n",
              "      <th>1</th>\n",
              "      <td>0.694365</td>\n",
              "      <td>0.707107</td>\n",
              "      <td>2.082550</td>\n",
              "    </tr>\n",
              "    <tr>\n",
              "      <th>2</th>\n",
              "      <td>0.694365</td>\n",
              "      <td>1.414214</td>\n",
              "      <td>1.585783</td>\n",
              "    </tr>\n",
              "    <tr>\n",
              "      <th>3</th>\n",
              "      <td>0.694365</td>\n",
              "      <td>-0.707107</td>\n",
              "      <td>1.226776</td>\n",
              "    </tr>\n",
              "    <tr>\n",
              "      <th>4</th>\n",
              "      <td>0.694365</td>\n",
              "      <td>-1.414214</td>\n",
              "      <td>0.008864</td>\n",
              "    </tr>\n",
              "  </tbody>\n",
              "</table>\n",
              "</div>"
            ],
            "text/plain": [
              "          0         1         2\n",
              "0  0.694365  0.000000  2.985286\n",
              "1  0.694365  0.707107  2.082550\n",
              "2  0.694365  1.414214  1.585783\n",
              "3  0.694365 -0.707107  1.226776\n",
              "4  0.694365 -1.414214  0.008864"
            ]
          },
          "metadata": {
            "tags": []
          },
          "execution_count": 36
        }
      ]
    },
    {
      "cell_type": "code",
      "metadata": {
        "id": "k0dJm5hZlYks",
        "colab_type": "code",
        "outputId": "f19f9b6e-ea3c-4a09-b093-9cb2cfe82c5f",
        "colab": {
          "base_uri": "https://localhost:8080/",
          "height": 345
        }
      },
      "source": [
        "standardized.columns=['ingredients', 'cuisine','count']\n",
        "standardized.head(10)"
      ],
      "execution_count": 0,
      "outputs": [
        {
          "output_type": "execute_result",
          "data": {
            "text/html": [
              "<div>\n",
              "<style scoped>\n",
              "    .dataframe tbody tr th:only-of-type {\n",
              "        vertical-align: middle;\n",
              "    }\n",
              "\n",
              "    .dataframe tbody tr th {\n",
              "        vertical-align: top;\n",
              "    }\n",
              "\n",
              "    .dataframe thead th {\n",
              "        text-align: right;\n",
              "    }\n",
              "</style>\n",
              "<table border=\"1\" class=\"dataframe\">\n",
              "  <thead>\n",
              "    <tr style=\"text-align: right;\">\n",
              "      <th></th>\n",
              "      <th>ingredients</th>\n",
              "      <th>cuisine</th>\n",
              "      <th>count</th>\n",
              "    </tr>\n",
              "  </thead>\n",
              "  <tbody>\n",
              "    <tr>\n",
              "      <th>0</th>\n",
              "      <td>0.694365</td>\n",
              "      <td>0.000000</td>\n",
              "      <td>2.985286</td>\n",
              "    </tr>\n",
              "    <tr>\n",
              "      <th>1</th>\n",
              "      <td>0.694365</td>\n",
              "      <td>0.707107</td>\n",
              "      <td>2.082550</td>\n",
              "    </tr>\n",
              "    <tr>\n",
              "      <th>2</th>\n",
              "      <td>0.694365</td>\n",
              "      <td>1.414214</td>\n",
              "      <td>1.585783</td>\n",
              "    </tr>\n",
              "    <tr>\n",
              "      <th>3</th>\n",
              "      <td>0.694365</td>\n",
              "      <td>-0.707107</td>\n",
              "      <td>1.226776</td>\n",
              "    </tr>\n",
              "    <tr>\n",
              "      <th>4</th>\n",
              "      <td>0.694365</td>\n",
              "      <td>-1.414214</td>\n",
              "      <td>0.008864</td>\n",
              "    </tr>\n",
              "    <tr>\n",
              "      <th>5</th>\n",
              "      <td>-0.925820</td>\n",
              "      <td>0.000000</td>\n",
              "      <td>2.526091</td>\n",
              "    </tr>\n",
              "    <tr>\n",
              "      <th>6</th>\n",
              "      <td>-0.925820</td>\n",
              "      <td>0.707107</td>\n",
              "      <td>1.555518</td>\n",
              "    </tr>\n",
              "    <tr>\n",
              "      <th>7</th>\n",
              "      <td>-0.925820</td>\n",
              "      <td>1.414214</td>\n",
              "      <td>-0.375191</td>\n",
              "    </tr>\n",
              "    <tr>\n",
              "      <th>8</th>\n",
              "      <td>-0.925820</td>\n",
              "      <td>-0.707107</td>\n",
              "      <td>0.356391</td>\n",
              "    </tr>\n",
              "    <tr>\n",
              "      <th>9</th>\n",
              "      <td>-0.925820</td>\n",
              "      <td>-1.414214</td>\n",
              "      <td>0.372046</td>\n",
              "    </tr>\n",
              "  </tbody>\n",
              "</table>\n",
              "</div>"
            ],
            "text/plain": [
              "   ingredients   cuisine     count\n",
              "0     0.694365  0.000000  2.985286\n",
              "1     0.694365  0.707107  2.082550\n",
              "2     0.694365  1.414214  1.585783\n",
              "3     0.694365 -0.707107  1.226776\n",
              "4     0.694365 -1.414214  0.008864\n",
              "5    -0.925820  0.000000  2.526091\n",
              "6    -0.925820  0.707107  1.555518\n",
              "7    -0.925820  1.414214 -0.375191\n",
              "8    -0.925820 -0.707107  0.356391\n",
              "9    -0.925820 -1.414214  0.372046"
            ]
          },
          "metadata": {
            "tags": []
          },
          "execution_count": 37
        }
      ]
    },
    {
      "cell_type": "code",
      "metadata": {
        "id": "T0EHMjljp7QZ",
        "colab_type": "code",
        "outputId": "2174ca68-e8b0-42bf-f63e-eb35bbf53fc1",
        "colab": {
          "base_uri": "https://localhost:8080/",
          "height": 196
        }
      },
      "source": [
        "stan = pd.concat([top20_in_cuisines['ingredients'],top20_in_cuisines['cuisine'],standardized['count']], axis=1)\n",
        "stan.head()"
      ],
      "execution_count": 0,
      "outputs": [
        {
          "output_type": "execute_result",
          "data": {
            "text/html": [
              "<div>\n",
              "<style scoped>\n",
              "    .dataframe tbody tr th:only-of-type {\n",
              "        vertical-align: middle;\n",
              "    }\n",
              "\n",
              "    .dataframe tbody tr th {\n",
              "        vertical-align: top;\n",
              "    }\n",
              "\n",
              "    .dataframe thead th {\n",
              "        text-align: right;\n",
              "    }\n",
              "</style>\n",
              "<table border=\"1\" class=\"dataframe\">\n",
              "  <thead>\n",
              "    <tr style=\"text-align: right;\">\n",
              "      <th></th>\n",
              "      <th>ingredients</th>\n",
              "      <th>cuisine</th>\n",
              "      <th>count</th>\n",
              "    </tr>\n",
              "  </thead>\n",
              "  <tbody>\n",
              "    <tr>\n",
              "      <th>0</th>\n",
              "      <td>salt</td>\n",
              "      <td>italian</td>\n",
              "      <td>2.985286</td>\n",
              "    </tr>\n",
              "    <tr>\n",
              "      <th>1</th>\n",
              "      <td>salt</td>\n",
              "      <td>mexican</td>\n",
              "      <td>2.082550</td>\n",
              "    </tr>\n",
              "    <tr>\n",
              "      <th>2</th>\n",
              "      <td>salt</td>\n",
              "      <td>southern_us</td>\n",
              "      <td>1.585783</td>\n",
              "    </tr>\n",
              "    <tr>\n",
              "      <th>3</th>\n",
              "      <td>salt</td>\n",
              "      <td>indian</td>\n",
              "      <td>1.226776</td>\n",
              "    </tr>\n",
              "    <tr>\n",
              "      <th>4</th>\n",
              "      <td>salt</td>\n",
              "      <td>chinese</td>\n",
              "      <td>0.008864</td>\n",
              "    </tr>\n",
              "  </tbody>\n",
              "</table>\n",
              "</div>"
            ],
            "text/plain": [
              "  ingredients      cuisine     count\n",
              "0        salt      italian  2.985286\n",
              "1        salt      mexican  2.082550\n",
              "2        salt  southern_us  1.585783\n",
              "3        salt       indian  1.226776\n",
              "4        salt      chinese  0.008864"
            ]
          },
          "metadata": {
            "tags": []
          },
          "execution_count": 38
        }
      ]
    },
    {
      "cell_type": "code",
      "metadata": {
        "id": "mpUDi6MklYhP",
        "colab_type": "code",
        "outputId": "48a90bef-0931-4f7f-8171-c5f21871dbf2",
        "colab": {
          "base_uri": "https://localhost:8080/",
          "height": 870
        }
      },
      "source": [
        "sns.set(style=\"darkgrid\")\n",
        "f, ax_stan = plt.subplots(figsize=(18, 13))\n",
        "sns.violinplot(x=\"count\",y=\"ingredients\",data = stan, palette=\"Paired\", inner=\"stick\", bw =.2, scale = 'count', linewidth=.8)\n",
        "sns.despine(left=True)\n",
        "f.suptitle('Top 15 Ingredients in 5 Most Popular Cuisines \\n (Standardized)', fontsize=18, fontweight='bold')\n",
        "ax_stan.set_xlabel(\"Distribution across top 5 Cuisines\",size = 16,alpha=0.7)\n",
        "ax_stan.set_ylabel(\"15 Most Popular Ingredients\",size = 16,alpha=0.7);"
      ],
      "execution_count": 0,
      "outputs": [
        {
          "output_type": "display_data",
          "data": {
            "image/png": "[encoded data removed]",
            "text/plain": [
              "<Figure size 1296x936 with 1 Axes>"
            ]
          },
          "metadata": {
            "tags": []
          }
        }
      ]
    },
    {
      "cell_type": "markdown",
      "metadata": {
        "id": "-qkY3CQvHEQN",
        "colab_type": "text"
      },
      "source": [
        "## Top Italian Ingrediants"
      ]
    },
    {
      "cell_type": "code",
      "metadata": {
        "id": "ilGbFW82syS1",
        "colab_type": "code",
        "colab": {}
      },
      "source": [
        "cuisine = df.groupby('cuisine')\n"
      ],
      "execution_count": 0,
      "outputs": []
    },
    {
      "cell_type": "code",
      "metadata": {
        "id": "Ra4MWZAAlER8",
        "colab_type": "code",
        "outputId": "53b80728-1eb3-4644-a98b-abb3e6272035",
        "colab": {
          "base_uri": "https://localhost:8080/",
          "height": 213
        }
      },
      "source": [
        "italian = cuisine.get_group('italian')\n",
        "italian_top=italian.melt(id_vars='cuisine').drop(['cuisine', 'variable'], axis=1)\n",
        "italian_final = pd.DataFrame(italian_top['value'].value_counts())\n",
        "print(italian_final.shape)\n",
        "italian_final.head()\n"
      ],
      "execution_count": 0,
      "outputs": [
        {
          "output_type": "stream",
          "text": [
            "(10754, 1)\n"
          ],
          "name": "stdout"
        },
        {
          "output_type": "execute_result",
          "data": {
            "text/html": [
              "<div>\n",
              "<style scoped>\n",
              "    .dataframe tbody tr th:only-of-type {\n",
              "        vertical-align: middle;\n",
              "    }\n",
              "\n",
              "    .dataframe tbody tr th {\n",
              "        vertical-align: top;\n",
              "    }\n",
              "\n",
              "    .dataframe thead th {\n",
              "        text-align: right;\n",
              "    }\n",
              "</style>\n",
              "<table border=\"1\" class=\"dataframe\">\n",
              "  <thead>\n",
              "    <tr style=\"text-align: right;\">\n",
              "      <th></th>\n",
              "      <th>value</th>\n",
              "    </tr>\n",
              "  </thead>\n",
              "  <tbody>\n",
              "    <tr>\n",
              "      <th>olive oil</th>\n",
              "      <td>4473</td>\n",
              "    </tr>\n",
              "    <tr>\n",
              "      <th>salt</th>\n",
              "      <td>3454</td>\n",
              "    </tr>\n",
              "    <tr>\n",
              "      <th>pepper</th>\n",
              "      <td>3122</td>\n",
              "    </tr>\n",
              "    <tr>\n",
              "      <th>garlic</th>\n",
              "      <td>3090</td>\n",
              "    </tr>\n",
              "    <tr>\n",
              "      <th>parmesan cheese</th>\n",
              "      <td>2054</td>\n",
              "    </tr>\n",
              "  </tbody>\n",
              "</table>\n",
              "</div>"
            ],
            "text/plain": [
              "                 value\n",
              "olive oil         4473\n",
              "salt              3454\n",
              "pepper            3122\n",
              "garlic            3090\n",
              "parmesan cheese   2054"
            ]
          },
          "metadata": {
            "tags": []
          },
          "execution_count": 41
        }
      ]
    },
    {
      "cell_type": "code",
      "metadata": {
        "id": "oDdH3YG3WDOP",
        "colab_type": "code",
        "outputId": "d40ad143-d42e-452c-bcb6-53ad41dd021c",
        "colab": {
          "base_uri": "https://localhost:8080/",
          "height": 518
        }
      },
      "source": [
        "ax_italian = italian_final[:20].plot(kind='barh', figsize=(12,8), color = 'r')\n",
        "ax_italian.set_ylabel(\"Ingredients\")\n",
        "ax_italian.set_xlabel(\"# of Recipes\")\n",
        "ax_italian.set_title('Top 20 Ingredients in Italian Recipes');"
      ],
      "execution_count": 0,
      "outputs": [
        {
          "output_type": "display_data",
          "data": {
            "image/png": "[encoded data removed]",
            "text/plain": [
              "<Figure size 864x576 with 1 Axes>"
            ]
          },
          "metadata": {
            "tags": []
          }
        }
      ]
    },
    {
      "cell_type": "markdown",
      "metadata": {
        "id": "594C9CQ9Gy0O",
        "colab_type": "text"
      },
      "source": [
        "## Top Mexican Ingediants"
      ]
    },
    {
      "cell_type": "code",
      "metadata": {
        "id": "QJwb3e5Sfy3Q",
        "colab_type": "code",
        "outputId": "9ca51fad-4678-4adb-c740-2131a341a5eb",
        "colab": {
          "base_uri": "https://localhost:8080/",
          "height": 213
        }
      },
      "source": [
        "mexican = cuisine.get_group('mexican')\n",
        "mexican_top= mexican.melt(id_vars='cuisine').drop(['cuisine', 'variable'], axis=1)\n",
        "mexican_final = pd.DataFrame (mexican_top['value'].value_counts())\n",
        "print(mexican_final.shape)\n",
        "mexican_final.head()"
      ],
      "execution_count": 0,
      "outputs": [
        {
          "output_type": "stream",
          "text": [
            "(9109, 1)\n"
          ],
          "name": "stdout"
        },
        {
          "output_type": "execute_result",
          "data": {
            "text/html": [
              "<div>\n",
              "<style scoped>\n",
              "    .dataframe tbody tr th:only-of-type {\n",
              "        vertical-align: middle;\n",
              "    }\n",
              "\n",
              "    .dataframe tbody tr th {\n",
              "        vertical-align: top;\n",
              "    }\n",
              "\n",
              "    .dataframe thead th {\n",
              "        text-align: right;\n",
              "    }\n",
              "</style>\n",
              "<table border=\"1\" class=\"dataframe\">\n",
              "  <thead>\n",
              "    <tr style=\"text-align: right;\">\n",
              "      <th></th>\n",
              "      <th>value</th>\n",
              "    </tr>\n",
              "  </thead>\n",
              "  <tbody>\n",
              "    <tr>\n",
              "      <th>salt</th>\n",
              "      <td>2720</td>\n",
              "    </tr>\n",
              "    <tr>\n",
              "      <th>garlic</th>\n",
              "      <td>2238</td>\n",
              "    </tr>\n",
              "    <tr>\n",
              "      <th>pepper</th>\n",
              "      <td>1841</td>\n",
              "    </tr>\n",
              "    <tr>\n",
              "      <th>olive oil</th>\n",
              "      <td>1495</td>\n",
              "    </tr>\n",
              "    <tr>\n",
              "      <th>onions</th>\n",
              "      <td>1493</td>\n",
              "    </tr>\n",
              "  </tbody>\n",
              "</table>\n",
              "</div>"
            ],
            "text/plain": [
              "           value\n",
              "salt        2720\n",
              "garlic      2238\n",
              "pepper      1841\n",
              "olive oil   1495\n",
              "onions      1493"
            ]
          },
          "metadata": {
            "tags": []
          },
          "execution_count": 43
        }
      ]
    },
    {
      "cell_type": "code",
      "metadata": {
        "id": "YFHIHFHPgNLp",
        "colab_type": "code",
        "outputId": "fab905bf-16e5-4dfe-e6d8-4f5675bf4685",
        "colab": {
          "base_uri": "https://localhost:8080/",
          "height": 518
        }
      },
      "source": [
        "ax_mexican = mexican_final[:20].plot(kind='barh', figsize=(12,8), color= 'green')\n",
        "ax_mexican.set_ylabel(\"Ingredients\")\n",
        "ax_mexican.set_xlabel(\"# of Recipes\")\n",
        "ax_mexican.set_title('Top 20 Ingredients in Mexican Recipes');"
      ],
      "execution_count": 0,
      "outputs": [
        {
          "output_type": "display_data",
          "data": {
            "image/png": "[encoded data removed]",
            "text/plain": [
              "<Figure size 864x576 with 1 Axes>"
            ]
          },
          "metadata": {
            "tags": []
          }
        }
      ]
    },
    {
      "cell_type": "markdown",
      "metadata": {
        "id": "s6lhe8-xPwTG",
        "colab_type": "text"
      },
      "source": [
        "## Top Southern_US Ingediants"
      ]
    },
    {
      "cell_type": "code",
      "metadata": {
        "id": "6l6imaGmPvNi",
        "colab_type": "code",
        "outputId": "bbd76a42-9bfc-47ed-ec3c-777342cb5a29",
        "colab": {
          "base_uri": "https://localhost:8080/",
          "height": 213
        }
      },
      "source": [
        "southern_us = cuisine.get_group('southern_us')\n",
        "southern_us_top= southern_us.melt(id_vars='cuisine').drop(['cuisine', 'variable'], axis=1)\n",
        "southern_us_final = pd.DataFrame (southern_us_top['value'].value_counts())\n",
        "print(southern_us_final.shape)\n",
        "southern_us_final.head()"
      ],
      "execution_count": 0,
      "outputs": [
        {
          "output_type": "stream",
          "text": [
            "(6769, 1)\n"
          ],
          "name": "stdout"
        },
        {
          "output_type": "execute_result",
          "data": {
            "text/html": [
              "<div>\n",
              "<style scoped>\n",
              "    .dataframe tbody tr th:only-of-type {\n",
              "        vertical-align: middle;\n",
              "    }\n",
              "\n",
              "    .dataframe tbody tr th {\n",
              "        vertical-align: top;\n",
              "    }\n",
              "\n",
              "    .dataframe thead th {\n",
              "        text-align: right;\n",
              "    }\n",
              "</style>\n",
              "<table border=\"1\" class=\"dataframe\">\n",
              "  <thead>\n",
              "    <tr style=\"text-align: right;\">\n",
              "      <th></th>\n",
              "      <th>value</th>\n",
              "    </tr>\n",
              "  </thead>\n",
              "  <tbody>\n",
              "    <tr>\n",
              "      <th>salt</th>\n",
              "      <td>2290</td>\n",
              "    </tr>\n",
              "    <tr>\n",
              "      <th>butter</th>\n",
              "      <td>1910</td>\n",
              "    </tr>\n",
              "    <tr>\n",
              "      <th>flour</th>\n",
              "      <td>1491</td>\n",
              "    </tr>\n",
              "    <tr>\n",
              "      <th>eggs</th>\n",
              "      <td>1368</td>\n",
              "    </tr>\n",
              "    <tr>\n",
              "      <th>pepper</th>\n",
              "      <td>1328</td>\n",
              "    </tr>\n",
              "  </tbody>\n",
              "</table>\n",
              "</div>"
            ],
            "text/plain": [
              "        value\n",
              "salt     2290\n",
              "butter   1910\n",
              "flour    1491\n",
              "eggs     1368\n",
              "pepper   1328"
            ]
          },
          "metadata": {
            "tags": []
          },
          "execution_count": 45
        }
      ]
    },
    {
      "cell_type": "code",
      "metadata": {
        "id": "hmZBHWbLPvdb",
        "colab_type": "code",
        "outputId": "4ed5d319-4fde-4143-f6e6-563022ef771e",
        "colab": {
          "base_uri": "https://localhost:8080/",
          "height": 518
        }
      },
      "source": [
        "ax_southern_us = southern_us_final[:20].plot(kind='barh', figsize=(12,8))\n",
        "ax_southern_us.set_ylabel(\"Ingredients\")\n",
        "ax_southern_us.set_xlabel(\"# of Recipes\")\n",
        "ax_southern_us.set_title('Top 20 Ingredients in Southern US Recipes');"
      ],
      "execution_count": 0,
      "outputs": [
        {
          "output_type": "display_data",
          "data": {
            "image/png": "[encoded data removed]",
            "text/plain": [
              "<Figure size 864x576 with 1 Axes>"
            ]
          },
          "metadata": {
            "tags": []
          }
        }
      ]
    },
    {
      "cell_type": "markdown",
      "metadata": {
        "id": "KudEX4CDXD3L",
        "colab_type": "text"
      },
      "source": [
        "## Top Indian Ingediants"
      ]
    },
    {
      "cell_type": "code",
      "metadata": {
        "id": "ZaXGdFC7XHaL",
        "colab_type": "code",
        "outputId": "06c4923e-61f9-45d5-9992-ab2dbccc00da",
        "colab": {
          "base_uri": "https://localhost:8080/",
          "height": 213
        }
      },
      "source": [
        "indian = cuisine.get_group('indian')\n",
        "indian_top= indian.melt(id_vars='cuisine').drop(['cuisine', 'variable'], axis=1)\n",
        "indian_final = pd.DataFrame(indian_top['value'].value_counts())\n",
        "print(indian_final.shape)\n",
        "indian_final.head()"
      ],
      "execution_count": 0,
      "outputs": [
        {
          "output_type": "stream",
          "text": [
            "(4654, 1)\n"
          ],
          "name": "stdout"
        },
        {
          "output_type": "execute_result",
          "data": {
            "text/html": [
              "<div>\n",
              "<style scoped>\n",
              "    .dataframe tbody tr th:only-of-type {\n",
              "        vertical-align: middle;\n",
              "    }\n",
              "\n",
              "    .dataframe tbody tr th {\n",
              "        vertical-align: top;\n",
              "    }\n",
              "\n",
              "    .dataframe thead th {\n",
              "        text-align: right;\n",
              "    }\n",
              "</style>\n",
              "<table border=\"1\" class=\"dataframe\">\n",
              "  <thead>\n",
              "    <tr style=\"text-align: right;\">\n",
              "      <th></th>\n",
              "      <th>value</th>\n",
              "    </tr>\n",
              "  </thead>\n",
              "  <tbody>\n",
              "    <tr>\n",
              "      <th>salt</th>\n",
              "      <td>1934</td>\n",
              "    </tr>\n",
              "    <tr>\n",
              "      <th>onions</th>\n",
              "      <td>1195</td>\n",
              "    </tr>\n",
              "    <tr>\n",
              "      <th>garlic</th>\n",
              "      <td>1172</td>\n",
              "    </tr>\n",
              "    <tr>\n",
              "      <th>ginger</th>\n",
              "      <td>905</td>\n",
              "    </tr>\n",
              "    <tr>\n",
              "      <th>garam masala</th>\n",
              "      <td>862</td>\n",
              "    </tr>\n",
              "  </tbody>\n",
              "</table>\n",
              "</div>"
            ],
            "text/plain": [
              "              value\n",
              "salt           1934\n",
              "onions         1195\n",
              "garlic         1172\n",
              "ginger          905\n",
              "garam masala    862"
            ]
          },
          "metadata": {
            "tags": []
          },
          "execution_count": 47
        }
      ]
    },
    {
      "cell_type": "code",
      "metadata": {
        "id": "ir-URf2mXHW8",
        "colab_type": "code",
        "outputId": "8a76cf95-b984-4449-84b2-3df2a7489f01",
        "colab": {
          "base_uri": "https://localhost:8080/",
          "height": 518
        }
      },
      "source": [
        "ax_indian = indian_final[:20].plot(kind='barh', figsize=(12,8))\n",
        "ax_indian.set_ylabel(\"Ingredients\")\n",
        "ax_indian.set_xlabel(\"# of Recipes\")\n",
        "ax_indian.set_title('Top 20 Ingredients in Indian Recipes');"
      ],
      "execution_count": 0,
      "outputs": [
        {
          "output_type": "display_data",
          "data": {
            "image/png": "[encoded data removed]",
            "text/plain": [
              "<Figure size 864x576 with 1 Axes>"
            ]
          },
          "metadata": {
            "tags": []
          }
        }
      ]
    },
    {
      "cell_type": "markdown",
      "metadata": {
        "id": "gDgcl8j4Qcz3",
        "colab_type": "text"
      },
      "source": [
        "## Top Chinese Ingediants"
      ]
    },
    {
      "cell_type": "code",
      "metadata": {
        "id": "p2ef-bsCKMVM",
        "colab_type": "code",
        "outputId": "6b98d9fd-a6fd-438f-f36c-3c4ae8406391",
        "colab": {
          "base_uri": "https://localhost:8080/",
          "height": 213
        }
      },
      "source": [
        "chinese = cuisine.get_group('chinese')\n",
        "chinese_top= chinese.melt(id_vars='cuisine').drop(['cuisine', 'variable'], axis=1)\n",
        "chinese_final = pd.DataFrame(chinese_top['value'].value_counts())\n",
        "print(chinese_final.shape)\n",
        "chinese_final.head()"
      ],
      "execution_count": 0,
      "outputs": [
        {
          "output_type": "stream",
          "text": [
            "(4452, 1)\n"
          ],
          "name": "stdout"
        },
        {
          "output_type": "execute_result",
          "data": {
            "text/html": [
              "<div>\n",
              "<style scoped>\n",
              "    .dataframe tbody tr th:only-of-type {\n",
              "        vertical-align: middle;\n",
              "    }\n",
              "\n",
              "    .dataframe tbody tr th {\n",
              "        vertical-align: top;\n",
              "    }\n",
              "\n",
              "    .dataframe thead th {\n",
              "        text-align: right;\n",
              "    }\n",
              "</style>\n",
              "<table border=\"1\" class=\"dataframe\">\n",
              "  <thead>\n",
              "    <tr style=\"text-align: right;\">\n",
              "      <th></th>\n",
              "      <th>value</th>\n",
              "    </tr>\n",
              "  </thead>\n",
              "  <tbody>\n",
              "    <tr>\n",
              "      <th>soy sauce</th>\n",
              "      <td>1363</td>\n",
              "    </tr>\n",
              "    <tr>\n",
              "      <th>garlic</th>\n",
              "      <td>1184</td>\n",
              "    </tr>\n",
              "    <tr>\n",
              "      <th>ginger</th>\n",
              "      <td>959</td>\n",
              "    </tr>\n",
              "    <tr>\n",
              "      <th>sesame oil</th>\n",
              "      <td>915</td>\n",
              "    </tr>\n",
              "    <tr>\n",
              "      <th>salt</th>\n",
              "      <td>907</td>\n",
              "    </tr>\n",
              "  </tbody>\n",
              "</table>\n",
              "</div>"
            ],
            "text/plain": [
              "            value\n",
              "soy sauce    1363\n",
              "garlic       1184\n",
              "ginger        959\n",
              "sesame oil    915\n",
              "salt          907"
            ]
          },
          "metadata": {
            "tags": []
          },
          "execution_count": 49
        }
      ]
    },
    {
      "cell_type": "code",
      "metadata": {
        "id": "bLby52wwQdjE",
        "colab_type": "code",
        "outputId": "74de7f8f-d93a-4ad0-9db0-b42175df9e5d",
        "colab": {
          "base_uri": "https://localhost:8080/",
          "height": 518
        }
      },
      "source": [
        "ax_chinese = chinese_final[:20].plot(kind='barh', figsize=(12,8))\n",
        "ax_chinese.set_ylabel(\"Ingredients\")\n",
        "ax_chinese.set_xlabel(\"# of Recipes\")\n",
        "ax_chinese.set_title('Top 20 Ingredients in Chinese Recipes');"
      ],
      "execution_count": 0,
      "outputs": [
        {
          "output_type": "display_data",
          "data": {
            "image/png": "[encoded data removed]",
            "text/plain": [
              "<Figure size 864x576 with 1 Axes>"
            ]
          },
          "metadata": {
            "tags": []
          }
        }
      ]
    },
    {
      "cell_type": "markdown",
      "metadata": {
        "id": "xf2VdLCHR4Lo",
        "colab_type": "text"
      },
      "source": [
        "## Top Russian Ingediants"
      ]
    },
    {
      "cell_type": "code",
      "metadata": {
        "id": "cnbXwSXcSJ-R",
        "colab_type": "code",
        "outputId": "023e0cc1-50f1-44d7-edf7-00e2501e52f0",
        "colab": {
          "base_uri": "https://localhost:8080/",
          "height": 213
        }
      },
      "source": [
        "russian = cuisine.get_group('russian')\n",
        "russian_top= russian.melt(id_vars='cuisine').drop(['cuisine', 'variable'], axis=1)\n",
        "russian_final = pd.DataFrame(russian_top['value'].value_counts())\n",
        "print(russian_final.shape)\n",
        "russian_final.head()"
      ],
      "execution_count": 0,
      "outputs": [
        {
          "output_type": "stream",
          "text": [
            "(1350, 1)\n"
          ],
          "name": "stdout"
        },
        {
          "output_type": "execute_result",
          "data": {
            "text/html": [
              "<div>\n",
              "<style scoped>\n",
              "    .dataframe tbody tr th:only-of-type {\n",
              "        vertical-align: middle;\n",
              "    }\n",
              "\n",
              "    .dataframe tbody tr th {\n",
              "        vertical-align: top;\n",
              "    }\n",
              "\n",
              "    .dataframe thead th {\n",
              "        text-align: right;\n",
              "    }\n",
              "</style>\n",
              "<table border=\"1\" class=\"dataframe\">\n",
              "  <thead>\n",
              "    <tr style=\"text-align: right;\">\n",
              "      <th></th>\n",
              "      <th>value</th>\n",
              "    </tr>\n",
              "  </thead>\n",
              "  <tbody>\n",
              "    <tr>\n",
              "      <th>salt</th>\n",
              "      <td>288</td>\n",
              "    </tr>\n",
              "    <tr>\n",
              "      <th>eggs</th>\n",
              "      <td>197</td>\n",
              "    </tr>\n",
              "    <tr>\n",
              "      <th>butter</th>\n",
              "      <td>197</td>\n",
              "    </tr>\n",
              "    <tr>\n",
              "      <th>flour</th>\n",
              "      <td>184</td>\n",
              "    </tr>\n",
              "    <tr>\n",
              "      <th>sugar</th>\n",
              "      <td>155</td>\n",
              "    </tr>\n",
              "  </tbody>\n",
              "</table>\n",
              "</div>"
            ],
            "text/plain": [
              "        value\n",
              "salt      288\n",
              "eggs      197\n",
              "butter    197\n",
              "flour     184\n",
              "sugar     155"
            ]
          },
          "metadata": {
            "tags": []
          },
          "execution_count": 51
        }
      ]
    },
    {
      "cell_type": "code",
      "metadata": {
        "id": "5vZz1oPPSKLR",
        "colab_type": "code",
        "outputId": "e1061bf6-9be2-46b5-f282-5165ea9c6525",
        "colab": {
          "base_uri": "https://localhost:8080/",
          "height": 518
        }
      },
      "source": [
        "ax_russian = russian_final[:20].plot(kind='barh', figsize=(12,8),color = 'm')\n",
        "ax_russian.set_ylabel(\"Ingredients\")\n",
        "ax_russian.set_xlabel(\"# of Recipes\")\n",
        "ax_russian.set_title('Top 20 Ingredients in Russian Recipes');"
      ],
      "execution_count": 0,
      "outputs": [
        {
          "output_type": "display_data",
          "data": {
            "image/png": "[encoded data removed]",
            "text/plain": [
              "<Figure size 864x576 with 1 Axes>"
            ]
          },
          "metadata": {
            "tags": []
          }
        }
      ]
    },
    {
      "cell_type": "markdown",
      "metadata": {
        "id": "XS9yW-c-UGsz",
        "colab_type": "text"
      },
      "source": [
        "## Top Moroccan Ingediants"
      ]
    },
    {
      "cell_type": "code",
      "metadata": {
        "id": "tQF7hUzeUu2Y",
        "colab_type": "code",
        "outputId": "02f387fa-8202-476d-b7fb-f236859072d1",
        "colab": {
          "base_uri": "https://localhost:8080/",
          "height": 213
        }
      },
      "source": [
        "moroccan = cuisine.get_group('moroccan')\n",
        "moroccan_top= moroccan.melt(id_vars='cuisine').drop(['cuisine', 'variable'], axis=1)\n",
        "moroccan_final = pd.DataFrame(moroccan_top['value'].value_counts())\n",
        "print(moroccan_final.shape)\n",
        "moroccan_final.head()"
      ],
      "execution_count": 0,
      "outputs": [
        {
          "output_type": "stream",
          "text": [
            "(1783, 1)\n"
          ],
          "name": "stdout"
        },
        {
          "output_type": "execute_result",
          "data": {
            "text/html": [
              "<div>\n",
              "<style scoped>\n",
              "    .dataframe tbody tr th:only-of-type {\n",
              "        vertical-align: middle;\n",
              "    }\n",
              "\n",
              "    .dataframe tbody tr th {\n",
              "        vertical-align: top;\n",
              "    }\n",
              "\n",
              "    .dataframe thead th {\n",
              "        text-align: right;\n",
              "    }\n",
              "</style>\n",
              "<table border=\"1\" class=\"dataframe\">\n",
              "  <thead>\n",
              "    <tr style=\"text-align: right;\">\n",
              "      <th></th>\n",
              "      <th>value</th>\n",
              "    </tr>\n",
              "  </thead>\n",
              "  <tbody>\n",
              "    <tr>\n",
              "      <th>olive oil</th>\n",
              "      <td>540</td>\n",
              "    </tr>\n",
              "    <tr>\n",
              "      <th>salt</th>\n",
              "      <td>413</td>\n",
              "    </tr>\n",
              "    <tr>\n",
              "      <th>garlic</th>\n",
              "      <td>366</td>\n",
              "    </tr>\n",
              "    <tr>\n",
              "      <th>ground cumin</th>\n",
              "      <td>348</td>\n",
              "    </tr>\n",
              "    <tr>\n",
              "      <th>pepper</th>\n",
              "      <td>347</td>\n",
              "    </tr>\n",
              "  </tbody>\n",
              "</table>\n",
              "</div>"
            ],
            "text/plain": [
              "              value\n",
              "olive oil       540\n",
              "salt            413\n",
              "garlic          366\n",
              "ground cumin    348\n",
              "pepper          347"
            ]
          },
          "metadata": {
            "tags": []
          },
          "execution_count": 53
        }
      ]
    },
    {
      "cell_type": "code",
      "metadata": {
        "id": "OG-YkaYkU8mV",
        "colab_type": "code",
        "outputId": "28a8043d-afa7-4710-b76c-72eb8aa3925a",
        "colab": {
          "base_uri": "https://localhost:8080/",
          "height": 518
        }
      },
      "source": [
        "ax_moroccan = moroccan_final[:20].plot(kind='barh', figsize=(12,8))\n",
        "ax_moroccan.set_ylabel(\"Ingredients\")\n",
        "ax_moroccan.set_xlabel(\"# of Recipes\")\n",
        "ax_moroccan.set_title('Top 20 Ingredients in Moroccan Recipes');"
      ],
      "execution_count": 0,
      "outputs": [
        {
          "output_type": "display_data",
          "data": {
            "image/png": "[encoded data removed]",
            "text/plain": [
              "<Figure size 864x576 with 1 Axes>"
            ]
          },
          "metadata": {
            "tags": []
          }
        }
      ]
    },
    {
      "cell_type": "markdown",
      "metadata": {
        "id": "zsRUjbreWadr",
        "colab_type": "text"
      },
      "source": [
        "## Top Brazilian Ingediants"
      ]
    },
    {
      "cell_type": "code",
      "metadata": {
        "id": "WPV4larLWfMB",
        "colab_type": "code",
        "outputId": "28ba860b-fb09-41cb-b0fa-a4d4325003c3",
        "colab": {
          "base_uri": "https://localhost:8080/",
          "height": 213
        }
      },
      "source": [
        "brazilian = cuisine.get_group('brazilian')\n",
        "brazilian_top= brazilian.melt(id_vars='cuisine').drop(['cuisine', 'variable'], axis=1)\n",
        "brazilian_final = pd.DataFrame(brazilian_top['value'].value_counts())\n",
        "print(brazilian_final.shape)\n",
        "brazilian_final.head()"
      ],
      "execution_count": 0,
      "outputs": [
        {
          "output_type": "stream",
          "text": [
            "(1307, 1)\n"
          ],
          "name": "stdout"
        },
        {
          "output_type": "execute_result",
          "data": {
            "text/html": [
              "<div>\n",
              "<style scoped>\n",
              "    .dataframe tbody tr th:only-of-type {\n",
              "        vertical-align: middle;\n",
              "    }\n",
              "\n",
              "    .dataframe tbody tr th {\n",
              "        vertical-align: top;\n",
              "    }\n",
              "\n",
              "    .dataframe thead th {\n",
              "        text-align: right;\n",
              "    }\n",
              "</style>\n",
              "<table border=\"1\" class=\"dataframe\">\n",
              "  <thead>\n",
              "    <tr style=\"text-align: right;\">\n",
              "      <th></th>\n",
              "      <th>value</th>\n",
              "    </tr>\n",
              "  </thead>\n",
              "  <tbody>\n",
              "    <tr>\n",
              "      <th>salt</th>\n",
              "      <td>194</td>\n",
              "    </tr>\n",
              "    <tr>\n",
              "      <th>garlic</th>\n",
              "      <td>165</td>\n",
              "    </tr>\n",
              "    <tr>\n",
              "      <th>onions</th>\n",
              "      <td>133</td>\n",
              "    </tr>\n",
              "    <tr>\n",
              "      <th>olive oil</th>\n",
              "      <td>131</td>\n",
              "    </tr>\n",
              "    <tr>\n",
              "      <th>pepper</th>\n",
              "      <td>127</td>\n",
              "    </tr>\n",
              "  </tbody>\n",
              "</table>\n",
              "</div>"
            ],
            "text/plain": [
              "           value\n",
              "salt         194\n",
              "garlic       165\n",
              "onions       133\n",
              "olive oil    131\n",
              "pepper       127"
            ]
          },
          "metadata": {
            "tags": []
          },
          "execution_count": 55
        }
      ]
    },
    {
      "cell_type": "code",
      "metadata": {
        "id": "Dqh20ESdWfax",
        "colab_type": "code",
        "outputId": "ea0cd4d8-ba16-44ac-8718-1ff46f41a9b2",
        "colab": {
          "base_uri": "https://localhost:8080/",
          "height": 518
        }
      },
      "source": [
        "ax_brazilian = brazilian_final[:20].plot(kind='barh', figsize=(12,8), color = 'green')\n",
        "ax_brazilian.set_ylabel(\"Ingredients\")\n",
        "ax_brazilian.set_xlabel(\"# of Recipes\")\n",
        "ax_brazilian.set_title('Top 20 Ingredients in Brazilian Recipes');"
      ],
      "execution_count": 0,
      "outputs": [
        {
          "output_type": "display_data",
          "data": {
            "image/png": "[encoded data removed]",
            "text/plain": [
              "<Figure size 864x576 with 1 Axes>"
            ]
          },
          "metadata": {
            "tags": []
          }
        }
      ]
    }
  ]
}